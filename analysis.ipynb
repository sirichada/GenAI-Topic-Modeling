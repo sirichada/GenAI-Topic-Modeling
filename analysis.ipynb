{
 "cells": [
  {
   "cell_type": "code",
   "execution_count": 44,
   "metadata": {},
   "outputs": [],
   "source": [
    "from bertopic import BERTopic\n",
    "import pandas as pd"
   ]
  },
  {
   "cell_type": "code",
   "execution_count": 11,
   "metadata": {},
   "outputs": [
    {
     "name": "stdout",
     "output_type": "stream",
     "text": [
      "                          DOI  \\\n",
      "0  10.1007/s43681-024-00521-7   \n",
      "1  10.1007/s43681-023-00315-3   \n",
      "2        10.2139/ssrn.4784555   \n",
      "3  10.1007/s43681-024-00519-1   \n",
      "4     10.1201/9781032654829-2   \n",
      "\n",
      "                                               Title  \\\n",
      "0  Ethics and the use of generative AI in profess...   \n",
      "1  Does the sun rise for ChatGPT? Scientific disc...   \n",
      "2  The Ethics of Generative Ai in Social Science ...   \n",
      "3  A powerful potion for a potent problem: transf...   \n",
      "4  Generative Artificial Intelligence: Introducti...   \n",
      "\n",
      "                                            Abstract  \n",
      "0  <jats:title>Abstract</jats:title><jats:p>Gener...  \n",
      "1                                                NaN  \n",
      "2                                                NaN  \n",
      "3  <jats:title>Abstract</jats:title><jats:p>Gener...  \n",
      "4                                                NaN  \n",
      "Index(['DOI', 'Title', 'Abstract'], dtype='object')\n"
     ]
    }
   ],
   "source": [
    "# Load the CSV file into a DataFrame\n",
    "df = pd.read_csv('crossref_data.csv')\n",
    "\n",
    "# Inspect the first few rows and columns\n",
    "print(df.head())\n",
    "print(df.columns)"
   ]
  },
  {
   "cell_type": "code",
   "execution_count": 13,
   "metadata": {},
   "outputs": [],
   "source": [
    "# Remove rows where 'Abstract' column has the value 'N/A'\n",
    "df = df[~df['Abstract'].isin(['N/A']) & df['Abstract'].notna()]"
   ]
  },
  {
   "cell_type": "code",
   "execution_count": 18,
   "metadata": {},
   "outputs": [
    {
     "data": {
      "text/html": [
       "<div>\n",
       "<style scoped>\n",
       "    .dataframe tbody tr th:only-of-type {\n",
       "        vertical-align: middle;\n",
       "    }\n",
       "\n",
       "    .dataframe tbody tr th {\n",
       "        vertical-align: top;\n",
       "    }\n",
       "\n",
       "    .dataframe thead th {\n",
       "        text-align: right;\n",
       "    }\n",
       "</style>\n",
       "<table border=\"1\" class=\"dataframe\">\n",
       "  <thead>\n",
       "    <tr style=\"text-align: right;\">\n",
       "      <th></th>\n",
       "      <th>DOI</th>\n",
       "      <th>Title</th>\n",
       "      <th>Abstract</th>\n",
       "    </tr>\n",
       "  </thead>\n",
       "  <tbody>\n",
       "    <tr>\n",
       "      <th>0</th>\n",
       "      <td>10.1007/s43681-024-00521-7</td>\n",
       "      <td>Ethics and the use of generative AI in profess...</td>\n",
       "      <td>&lt;jats:title&gt;Abstract&lt;/jats:title&gt;&lt;jats:p&gt;Gener...</td>\n",
       "    </tr>\n",
       "    <tr>\n",
       "      <th>3</th>\n",
       "      <td>10.1007/s43681-024-00519-1</td>\n",
       "      <td>A powerful potion for a potent problem: transf...</td>\n",
       "      <td>&lt;jats:title&gt;Abstract&lt;/jats:title&gt;&lt;jats:p&gt;Gener...</td>\n",
       "    </tr>\n",
       "    <tr>\n",
       "      <th>5</th>\n",
       "      <td>10.4018/979-8-3693-8557-9.ch009</td>\n",
       "      <td>Generative AI for Cybersecurity</td>\n",
       "      <td>&lt;jats:p&gt;The intersection of cybersecurity and ...</td>\n",
       "    </tr>\n",
       "    <tr>\n",
       "      <th>10</th>\n",
       "      <td>10.4018/979-8-3693-8557-9.ch002</td>\n",
       "      <td>Generative AI</td>\n",
       "      <td>&lt;jats:p&gt;For nearly 50 years, artificial intell...</td>\n",
       "    </tr>\n",
       "    <tr>\n",
       "      <th>13</th>\n",
       "      <td>10.1007/s43681-024-00443-4</td>\n",
       "      <td>AI hype as a cyber security risk: the moral re...</td>\n",
       "      <td>&lt;jats:title&gt;Abstract&lt;/jats:title&gt;&lt;jats:p&gt;This ...</td>\n",
       "    </tr>\n",
       "  </tbody>\n",
       "</table>\n",
       "</div>"
      ],
      "text/plain": [
       "                                DOI  \\\n",
       "0        10.1007/s43681-024-00521-7   \n",
       "3        10.1007/s43681-024-00519-1   \n",
       "5   10.4018/979-8-3693-8557-9.ch009   \n",
       "10  10.4018/979-8-3693-8557-9.ch002   \n",
       "13       10.1007/s43681-024-00443-4   \n",
       "\n",
       "                                                Title  \\\n",
       "0   Ethics and the use of generative AI in profess...   \n",
       "3   A powerful potion for a potent problem: transf...   \n",
       "5                     Generative AI for Cybersecurity   \n",
       "10                                      Generative AI   \n",
       "13  AI hype as a cyber security risk: the moral re...   \n",
       "\n",
       "                                             Abstract  \n",
       "0   <jats:title>Abstract</jats:title><jats:p>Gener...  \n",
       "3   <jats:title>Abstract</jats:title><jats:p>Gener...  \n",
       "5   <jats:p>The intersection of cybersecurity and ...  \n",
       "10  <jats:p>For nearly 50 years, artificial intell...  \n",
       "13  <jats:title>Abstract</jats:title><jats:p>This ...  "
      ]
     },
     "execution_count": 18,
     "metadata": {},
     "output_type": "execute_result"
    }
   ],
   "source": [
    "df.head()"
   ]
  },
  {
   "cell_type": "code",
   "execution_count": 40,
   "metadata": {},
   "outputs": [],
   "source": [
    "# Initialize and fit the BERTopic model\n",
    "topic_model = BERTopic(embedding_model=\"all-MiniLM-L6-v2\")"
   ]
  },
  {
   "cell_type": "code",
   "execution_count": 46,
   "metadata": {},
   "outputs": [
    {
     "ename": "ModuleNotFoundError",
     "evalue": "No module named 'spacy'",
     "output_type": "error",
     "traceback": [
      "\u001b[0;31m---------------------------------------------------------------------------\u001b[0m",
      "\u001b[0;31mModuleNotFoundError\u001b[0m                       Traceback (most recent call last)",
      "Cell \u001b[0;32mIn[46], line 1\u001b[0m\n\u001b[0;32m----> 1\u001b[0m \u001b[38;5;28;01mimport\u001b[39;00m \u001b[38;5;21;01mspacy\u001b[39;00m\n\u001b[1;32m      3\u001b[0m nlp \u001b[38;5;241m=\u001b[39m spacy\u001b[38;5;241m.\u001b[39mload(\u001b[38;5;124m\"\u001b[39m\u001b[38;5;124men_core_web_md\u001b[39m\u001b[38;5;124m\"\u001b[39m, exclude\u001b[38;5;241m=\u001b[39m[\u001b[38;5;124m'\u001b[39m\u001b[38;5;124mtagger\u001b[39m\u001b[38;5;124m'\u001b[39m, \u001b[38;5;124m'\u001b[39m\u001b[38;5;124mparser\u001b[39m\u001b[38;5;124m'\u001b[39m, \u001b[38;5;124m'\u001b[39m\u001b[38;5;124mner\u001b[39m\u001b[38;5;124m'\u001b[39m, \n\u001b[1;32m      4\u001b[0m                                             \u001b[38;5;124m'\u001b[39m\u001b[38;5;124mattribute_ruler\u001b[39m\u001b[38;5;124m'\u001b[39m, \u001b[38;5;124m'\u001b[39m\u001b[38;5;124mlemmatizer\u001b[39m\u001b[38;5;124m'\u001b[39m])\n\u001b[1;32m      6\u001b[0m topic_model \u001b[38;5;241m=\u001b[39m BERTopic(embedding_model\u001b[38;5;241m=\u001b[39mnlp)\n",
      "\u001b[0;31mModuleNotFoundError\u001b[0m: No module named 'spacy'"
     ]
    }
   ],
   "source": [
    "import spacy\n",
    "\n",
    "nlp = spacy.load(\"en_core_web_md\", exclude=['tagger', 'parser', 'ner', \n",
    "                                            'attribute_ruler', 'lemmatizer'])\n",
    "\n",
    "topic_model = BERTopic(embedding_model=nlp)"
   ]
  },
  {
   "cell_type": "code",
   "execution_count": null,
   "metadata": {},
   "outputs": [],
   "source": [
    "topics, probs = topic_model.fit_transform(df['Title'])"
   ]
  },
  {
   "cell_type": "code",
   "execution_count": 42,
   "metadata": {},
   "outputs": [
    {
     "data": {
      "text/html": [
       "<div>\n",
       "<style scoped>\n",
       "    .dataframe tbody tr th:only-of-type {\n",
       "        vertical-align: middle;\n",
       "    }\n",
       "\n",
       "    .dataframe tbody tr th {\n",
       "        vertical-align: top;\n",
       "    }\n",
       "\n",
       "    .dataframe thead th {\n",
       "        text-align: right;\n",
       "    }\n",
       "</style>\n",
       "<table border=\"1\" class=\"dataframe\">\n",
       "  <thead>\n",
       "    <tr style=\"text-align: right;\">\n",
       "      <th></th>\n",
       "      <th>Topic</th>\n",
       "      <th>Count</th>\n",
       "      <th>Name</th>\n",
       "      <th>Representation</th>\n",
       "      <th>Representative_Docs</th>\n",
       "    </tr>\n",
       "  </thead>\n",
       "  <tbody>\n",
       "    <tr>\n",
       "      <th>0</th>\n",
       "      <td>-1</td>\n",
       "      <td>4</td>\n",
       "      <td>-1_cybersecurity_synergizing_entities_companies</td>\n",
       "      <td>[cybersecurity, synergizing, entities, compani...</td>\n",
       "      <td>[Generative AI for Cybersecurity, Synergizing ...</td>\n",
       "    </tr>\n",
       "    <tr>\n",
       "      <th>1</th>\n",
       "      <td>0</td>\n",
       "      <td>203</td>\n",
       "      <td>0_ai_ethics_the_of</td>\n",
       "      <td>[ai, ethics, the, of, and, in, to, for, ethica...</td>\n",
       "      <td>[AI Ethics, Ethics of AI, The Ethics of the Et...</td>\n",
       "    </tr>\n",
       "    <tr>\n",
       "      <th>2</th>\n",
       "      <td>1</td>\n",
       "      <td>153</td>\n",
       "      <td>1_generative_ai_in_of</td>\n",
       "      <td>[generative, ai, in, of, the, and, for, educat...</td>\n",
       "      <td>[Generative AI in Higher Education, Generative...</td>\n",
       "    </tr>\n",
       "  </tbody>\n",
       "</table>\n",
       "</div>"
      ],
      "text/plain": [
       "   Topic  Count                                             Name  \\\n",
       "0     -1      4  -1_cybersecurity_synergizing_entities_companies   \n",
       "1      0    203                               0_ai_ethics_the_of   \n",
       "2      1    153                            1_generative_ai_in_of   \n",
       "\n",
       "                                      Representation  \\\n",
       "0  [cybersecurity, synergizing, entities, compani...   \n",
       "1  [ai, ethics, the, of, and, in, to, for, ethica...   \n",
       "2  [generative, ai, in, of, the, and, for, educat...   \n",
       "\n",
       "                                 Representative_Docs  \n",
       "0  [Generative AI for Cybersecurity, Synergizing ...  \n",
       "1  [AI Ethics, Ethics of AI, The Ethics of the Et...  \n",
       "2  [Generative AI in Higher Education, Generative...  "
      ]
     },
     "execution_count": 42,
     "metadata": {},
     "output_type": "execute_result"
    }
   ],
   "source": [
    "topic_model.get_topic_info()\n"
   ]
  },
  {
   "cell_type": "code",
   "execution_count": 43,
   "metadata": {},
   "outputs": [
    {
     "data": {
      "text/plain": [
       "[('ai', 0.13799116183324875),\n",
       " ('ethics', 0.10842479734844122),\n",
       " ('the', 0.09864601982835451),\n",
       " ('of', 0.09426459995213436),\n",
       " ('and', 0.09102016679936356),\n",
       " ('in', 0.0712072796257694),\n",
       " ('to', 0.06622740754245858),\n",
       " ('for', 0.060294188321094955),\n",
       " ('ethical', 0.048278605172302265),\n",
       " ('intelligence', 0.041634558023076196)]"
      ]
     },
     "execution_count": 43,
     "metadata": {},
     "output_type": "execute_result"
    }
   ],
   "source": [
    "topic_model.get_topic(0)"
   ]
  }
 ],
 "metadata": {
  "kernelspec": {
   "display_name": "base",
   "language": "python",
   "name": "python3"
  },
  "language_info": {
   "codemirror_mode": {
    "name": "ipython",
    "version": 3
   },
   "file_extension": ".py",
   "mimetype": "text/x-python",
   "name": "python",
   "nbconvert_exporter": "python",
   "pygments_lexer": "ipython3",
   "version": "3.11.7"
  }
 },
 "nbformat": 4,
 "nbformat_minor": 2
}
