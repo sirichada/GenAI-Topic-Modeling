{
 "cells": [
  {
   "cell_type": "code",
   "execution_count": 1,
   "metadata": {},
   "outputs": [],
   "source": [
    "from bertopic import BERTopic\n",
    "from bs4 import BeautifulSoup\n",
    "import pandas as pd\n",
    "import numpy as np"
   ]
  },
  {
   "cell_type": "code",
   "execution_count": 2,
   "metadata": {},
   "outputs": [
    {
     "name": "stdout",
     "output_type": "stream",
     "text": [
      "                          DOI  \\\n",
      "0  10.1007/s43681-024-00521-7   \n",
      "1  10.1007/s43681-023-00315-3   \n",
      "2        10.2139/ssrn.4784555   \n",
      "3  10.1007/s43681-024-00519-1   \n",
      "4     10.1201/9781032654829-2   \n",
      "\n",
      "                                               Title  \\\n",
      "0  Ethics and the use of generative AI in profess...   \n",
      "1  Does the sun rise for ChatGPT? Scientific disc...   \n",
      "2  The Ethics of Generative Ai in Social Science ...   \n",
      "3  A powerful potion for a potent problem: transf...   \n",
      "4  Generative Artificial Intelligence: Introducti...   \n",
      "\n",
      "                                            Abstract  \n",
      "0  <jats:title>Abstract</jats:title><jats:p>Gener...  \n",
      "1                                                NaN  \n",
      "2                                                NaN  \n",
      "3  <jats:title>Abstract</jats:title><jats:p>Gener...  \n",
      "4                                                NaN  \n",
      "Index(['DOI', 'Title', 'Abstract'], dtype='object')\n"
     ]
    }
   ],
   "source": [
    "# Load the CSV file into a DataFrame\n",
    "df = pd.read_csv('crossref_data.csv')\n",
    "\n",
    "# Inspect the first few rows and columns\n",
    "print(df.head())\n",
    "print(df.columns)"
   ]
  },
  {
   "cell_type": "code",
   "execution_count": 3,
   "metadata": {},
   "outputs": [],
   "source": [
    "# Remove rows where 'Abstract' column has the value 'N/A'\n",
    "df = df[~df['Abstract'].isin(['N/A']) & df['Abstract'].notna()]"
   ]
  },
  {
   "cell_type": "code",
   "execution_count": 4,
   "metadata": {},
   "outputs": [
    {
     "data": {
      "text/html": [
       "<div>\n",
       "<style scoped>\n",
       "    .dataframe tbody tr th:only-of-type {\n",
       "        vertical-align: middle;\n",
       "    }\n",
       "\n",
       "    .dataframe tbody tr th {\n",
       "        vertical-align: top;\n",
       "    }\n",
       "\n",
       "    .dataframe thead th {\n",
       "        text-align: right;\n",
       "    }\n",
       "</style>\n",
       "<table border=\"1\" class=\"dataframe\">\n",
       "  <thead>\n",
       "    <tr style=\"text-align: right;\">\n",
       "      <th></th>\n",
       "      <th>DOI</th>\n",
       "      <th>Title</th>\n",
       "      <th>Abstract</th>\n",
       "    </tr>\n",
       "  </thead>\n",
       "  <tbody>\n",
       "    <tr>\n",
       "      <th>0</th>\n",
       "      <td>10.1007/s43681-024-00521-7</td>\n",
       "      <td>Ethics and the use of generative AI in profess...</td>\n",
       "      <td>&lt;jats:title&gt;Abstract&lt;/jats:title&gt;&lt;jats:p&gt;Gener...</td>\n",
       "    </tr>\n",
       "    <tr>\n",
       "      <th>3</th>\n",
       "      <td>10.1007/s43681-024-00519-1</td>\n",
       "      <td>A powerful potion for a potent problem: transf...</td>\n",
       "      <td>&lt;jats:title&gt;Abstract&lt;/jats:title&gt;&lt;jats:p&gt;Gener...</td>\n",
       "    </tr>\n",
       "    <tr>\n",
       "      <th>5</th>\n",
       "      <td>10.4018/979-8-3693-8557-9.ch009</td>\n",
       "      <td>Generative AI for Cybersecurity</td>\n",
       "      <td>&lt;jats:p&gt;The intersection of cybersecurity and ...</td>\n",
       "    </tr>\n",
       "    <tr>\n",
       "      <th>10</th>\n",
       "      <td>10.4018/979-8-3693-8557-9.ch002</td>\n",
       "      <td>Generative AI</td>\n",
       "      <td>&lt;jats:p&gt;For nearly 50 years, artificial intell...</td>\n",
       "    </tr>\n",
       "    <tr>\n",
       "      <th>13</th>\n",
       "      <td>10.1007/s43681-024-00443-4</td>\n",
       "      <td>AI hype as a cyber security risk: the moral re...</td>\n",
       "      <td>&lt;jats:title&gt;Abstract&lt;/jats:title&gt;&lt;jats:p&gt;This ...</td>\n",
       "    </tr>\n",
       "  </tbody>\n",
       "</table>\n",
       "</div>"
      ],
      "text/plain": [
       "                                DOI  \\\n",
       "0        10.1007/s43681-024-00521-7   \n",
       "3        10.1007/s43681-024-00519-1   \n",
       "5   10.4018/979-8-3693-8557-9.ch009   \n",
       "10  10.4018/979-8-3693-8557-9.ch002   \n",
       "13       10.1007/s43681-024-00443-4   \n",
       "\n",
       "                                                Title  \\\n",
       "0   Ethics and the use of generative AI in profess...   \n",
       "3   A powerful potion for a potent problem: transf...   \n",
       "5                     Generative AI for Cybersecurity   \n",
       "10                                      Generative AI   \n",
       "13  AI hype as a cyber security risk: the moral re...   \n",
       "\n",
       "                                             Abstract  \n",
       "0   <jats:title>Abstract</jats:title><jats:p>Gener...  \n",
       "3   <jats:title>Abstract</jats:title><jats:p>Gener...  \n",
       "5   <jats:p>The intersection of cybersecurity and ...  \n",
       "10  <jats:p>For nearly 50 years, artificial intell...  \n",
       "13  <jats:title>Abstract</jats:title><jats:p>This ...  "
      ]
     },
     "execution_count": 4,
     "metadata": {},
     "output_type": "execute_result"
    }
   ],
   "source": [
    "df.head()"
   ]
  },
  {
   "cell_type": "code",
   "execution_count": 5,
   "metadata": {},
   "outputs": [],
   "source": [
    "# Define the cleaning function\n",
    "def clean_html_xml(text):\n",
    "    # Create a BeautifulSoup object to parse the HTML/XML\n",
    "    soup = BeautifulSoup(text, 'html.parser')\n",
    "    # Extract and return text without HTML/XML tags\n",
    "    return soup.get_text()"
   ]
  },
  {
   "cell_type": "code",
   "execution_count": 6,
   "metadata": {},
   "outputs": [],
   "source": [
    "df['cleaned_text'] = df['Abstract'].apply(clean_html_xml)"
   ]
  },
  {
   "cell_type": "code",
   "execution_count": 7,
   "metadata": {},
   "outputs": [],
   "source": [
    "# Initialize and fit the BERTopic model and remove stop words from the vectorizer\n",
    "from sklearn.feature_extraction.text import CountVectorizer\n",
    "vectorizer_model = CountVectorizer(stop_words=\"english\")\n",
    "topic_model = BERTopic(vectorizer_model=vectorizer_model)"
   ]
  },
  {
   "cell_type": "code",
   "execution_count": 8,
   "metadata": {},
   "outputs": [],
   "source": [
    "topics, probs = topic_model.fit_transform(df['cleaned_text'])"
   ]
  },
  {
   "cell_type": "code",
   "execution_count": 9,
   "metadata": {},
   "outputs": [
    {
     "data": {
      "text/html": [
       "<div>\n",
       "<style scoped>\n",
       "    .dataframe tbody tr th:only-of-type {\n",
       "        vertical-align: middle;\n",
       "    }\n",
       "\n",
       "    .dataframe tbody tr th {\n",
       "        vertical-align: top;\n",
       "    }\n",
       "\n",
       "    .dataframe thead th {\n",
       "        text-align: right;\n",
       "    }\n",
       "</style>\n",
       "<table border=\"1\" class=\"dataframe\">\n",
       "  <thead>\n",
       "    <tr style=\"text-align: right;\">\n",
       "      <th></th>\n",
       "      <th>Topic</th>\n",
       "      <th>Count</th>\n",
       "      <th>Name</th>\n",
       "      <th>Representation</th>\n",
       "      <th>Representative_Docs</th>\n",
       "    </tr>\n",
       "  </thead>\n",
       "  <tbody>\n",
       "    <tr>\n",
       "      <th>0</th>\n",
       "      <td>-1</td>\n",
       "      <td>34</td>\n",
       "      <td>-1_journals_computing_guidelines_genai</td>\n",
       "      <td>[journals, computing, guidelines, genai, edgec...</td>\n",
       "      <td>[&lt;p&gt;As a specific category of artificial intel...</td>\n",
       "    </tr>\n",
       "    <tr>\n",
       "      <th>1</th>\n",
       "      <td>0</td>\n",
       "      <td>625</td>\n",
       "      <td>0_ai_generative_education_learning</td>\n",
       "      <td>[ai, generative, education, learning, research...</td>\n",
       "      <td>[This study looks into how generative artifici...</td>\n",
       "    </tr>\n",
       "    <tr>\n",
       "      <th>2</th>\n",
       "      <td>1</td>\n",
       "      <td>561</td>\n",
       "      <td>1_ai_ethical_ethics_systems</td>\n",
       "      <td>[ai, ethical, ethics, systems, human, moral, a...</td>\n",
       "      <td>[\\nUNSTRUCTURED\\nThe use of artificial intelli...</td>\n",
       "    </tr>\n",
       "    <tr>\n",
       "      <th>3</th>\n",
       "      <td>2</td>\n",
       "      <td>126</td>\n",
       "      <td>2_data_generative_medical_health</td>\n",
       "      <td>[data, generative, medical, health, models, ai...</td>\n",
       "      <td>[In recent years, the rapid development of AI ...</td>\n",
       "    </tr>\n",
       "    <tr>\n",
       "      <th>4</th>\n",
       "      <td>3</td>\n",
       "      <td>30</td>\n",
       "      <td>3_cybersecurity_security_cyber_ai</td>\n",
       "      <td>[cybersecurity, security, cyber, ai, gans, thr...</td>\n",
       "      <td>[&lt;p&gt;The digital landscape of the modern world ...</td>\n",
       "    </tr>\n",
       "  </tbody>\n",
       "</table>\n",
       "</div>"
      ],
      "text/plain": [
       "   Topic  Count                                    Name  \\\n",
       "0     -1     34  -1_journals_computing_guidelines_genai   \n",
       "1      0    625      0_ai_generative_education_learning   \n",
       "2      1    561             1_ai_ethical_ethics_systems   \n",
       "3      2    126        2_data_generative_medical_health   \n",
       "4      3     30       3_cybersecurity_security_cyber_ai   \n",
       "\n",
       "                                      Representation  \\\n",
       "0  [journals, computing, guidelines, genai, edgec...   \n",
       "1  [ai, generative, education, learning, research...   \n",
       "2  [ai, ethical, ethics, systems, human, moral, a...   \n",
       "3  [data, generative, medical, health, models, ai...   \n",
       "4  [cybersecurity, security, cyber, ai, gans, thr...   \n",
       "\n",
       "                                 Representative_Docs  \n",
       "0  [<p>As a specific category of artificial intel...  \n",
       "1  [This study looks into how generative artifici...  \n",
       "2  [\\nUNSTRUCTURED\\nThe use of artificial intelli...  \n",
       "3  [In recent years, the rapid development of AI ...  \n",
       "4  [<p>The digital landscape of the modern world ...  "
      ]
     },
     "execution_count": 9,
     "metadata": {},
     "output_type": "execute_result"
    }
   ],
   "source": [
    "topic_model.get_topic_info()\n"
   ]
  },
  {
   "cell_type": "code",
   "execution_count": 14,
   "metadata": {},
   "outputs": [
    {
     "data": {
      "text/plain": [
       "[('data', 0.0576349564120377),\n",
       " ('generative', 0.049741666231350706),\n",
       " ('medical', 0.0417035732372851),\n",
       " ('health', 0.03674487210025728),\n",
       " ('models', 0.03359216337900728),\n",
       " ('ai', 0.0332212441201029),\n",
       " ('healthcare', 0.03317070884725877),\n",
       " ('clinical', 0.029054173111054894),\n",
       " ('potential', 0.025050807798555248),\n",
       " ('care', 0.024171745464558816)]"
      ]
     },
     "execution_count": 14,
     "metadata": {},
     "output_type": "execute_result"
    }
   ],
   "source": [
    "topic_model.get_topic(2)"
   ]
  },
  {
   "cell_type": "code",
   "execution_count": 12,
   "metadata": {},
   "outputs": [
    {
     "data": {
      "text/plain": [
       "[\"This study looks into how generative artificial intelligence (AI) is affecting the field of education. The study examines the possible advantages of using generative AI into instruction, such as more individualized learning opportunities, enhanced accessibility, and creative teaching strategies. The study also recognizes and examines the moral issues raised by the application of AI in education, highlighting the significance of upholding academic honesty and openness. It draws attention to the necessity of cautious application in order to guarantee that AI fosters fruitful learning results. The suggested research technique describes a mixed methods strategy that combines quantitative data analysis with qualitative information from surveys and interviews. The goal of the project is to provide best practices and standards for the appropriate integration of generative AI in education, while also identifying the potential and problems that this technology presents. The anticipated results include a thorough comprehension of how generative AI will affect education and how it might improve learning opportunities, ethical issues for responsible usage, and the identification of possible problems and solutions. In the end, the research hopes to promote a more inclusive and productive learning environment by aiding in the creation of useful frameworks for incorporating AI into educational settings. The education industry has drastically evolved in recent years, thanks to the remarkable advancements made by artificial intelligence. With the integration of generative AI technology, educators and students are now presented with a wealth of possibilities and opportunities.  As AI continues to advance further, it holds great potential for revolutionizing education as we know it through improved efficiency measures that personalize learning experiences while enhancing overall student outcomes. Harnessing this power-packed tool in teaching environments creates an opportunity for educational institutions across various sectors allowing them efficient intelligent assessment tools coupled with personalized tutoring provisions towards addressing classroom weaknesses resulting in custom-made lesson plans aimed at betterment of individual academic progress developed using predictive models creating ample time such that teachers can focus solely on providing tailored instruction & support based exclusively around their Student's requirements& specifications.  This groundbreaking technological development provided meaningfully leveraging Generative Intelligence efforts promises nothing short but will be instrumental when shaping how Education is structured from henceforth enabling automation capabilities within the Administrative tasks management system,& content-building-The advantages come twofold-Enhancement not only resides generally concerning Upgrade Learning Experience situations; there exist tailor solutions projecting Speaker understanding regarding distinctive needs pupils have always had throughout all levels ultimately leading to Developmental Progression heights hitherto attainable anticipated sooner than later.\",\n",
       " \"As the educational landscape endures continuous change, artificial intelligence (AI) has presented unprecedented opportunities to revolutionize instructional methods. Among these cutting-edge AI technologies, Generative AI has emerged as a promising instrument with the potential to empower educators and students through innovative instructional strategies. This article aims to investigate the various applications of Generative AI in education and cast light on its role in shaping the future of education. The objectives of this study are twofold: first, to investigate the various instructional strategies that can be enhanced by employing Generative AI, and second, to assess the potential impact of these strategies on student learning outcomes. To accomplish these goals, a comprehensive literature review was conducted analyzing existing studies and applications of Generative AI in educational settings. The results and discussions emphasize the numerous educational benefits of Generative AI. Educators can personalize learning experiences, create interactive content, and facilitate adaptive assessments by leveraging the capabilities of Generative AI. This individualized strategy has the potential to boost learner engagement and knowledge retention. However, despite the numerous advantages, ethical concerns and difficulties arise. The responsible incorporation of Generative AI in education requires addressing issues such as data privacy, algorithmic bias, and the educator's role in directing AI-driven learning experiences. The research concludes by emphasizing that Generative AI holds enormous promise for empowering education and transforming instructional practices. The findings highlight the importance of ongoing collaboration between educators, policymakers, and AI developers to ensure the ethical and equitable integration of Generative AI into educational environments. By embracing the potential of Generative AI while remaining vigilant regarding its challenges, the field of education can unlock novel opportunities to nurture an inclusive, adaptive, and learner-centric pedagogical landscape for tomorrow's learners.\\r\\n\\xa0\",\n",
       " \"This paper reports preliminary findings from an ongoing, campus wide research project on effective methods for generative AI applicability in pursuit of effective and engaging teaching and learning activities. Generative AI has had a tremendous adoption rate since the public release of ChatGPT 3.5 on November 30th 2022. This has necessitated that educators and administrators consider the potential opportunities and threats usage of generative AI by students and faculty may have on higher education. Recognizing the inevitability of generative AI, the researchers have proposed a university-wide research project to ascertain the changes in faculty and students perspectives when using generative AI The research project is two-fold. First, a longitudinal survey has been developed to address research questions about usage and perceptions of generative AI change over time.\\nThe second prong of this research project focuses on the implementation of new and continuing generative AI professional development workshops. These “AI Institutes” are targeted educational opportunities to provide faculty, staff, and students with hands-on experiences that model appropriate ways to teach and learn with generative AI tools. Workshops change based on audience needs, but will be designed to support such processes as introductory and advanced lessons on building learning activities which engage students with generative AI, administrative shortcuts, best practices for writing, and our university’s AI policy and principles.\\nThe longitudinal survey, thus, allows the research team to gauge changes in perspectives as the “AI Institutes'' are deployed and widespread adoption of generative AI tools become more mainstream. This paper reports on the first year of this research project, including one survey and one AI Institute.\\nThis research on integrating generative AI technologies into teaching and learning has important implications for the field of networked learning. As the paper explores, rapid advances in AI are changing how students and faculty interact with content and each other. Findings from the longitudinal survey and AI Institutes could provide insights into how to thoughtfully leverage these emerging tools to enhance connections, dialogue, collaboration, and co-creation of knowledge within digital learning networks.\\xa0\\nWhile further research is needed, this project takes an important first step in assessing faculty and student perceptions that can inform appropriate AI integration. Lessons learned could guide other institutions exploring the potentials and pitfalls of weaving generative AI into networked learning ecosystems.\"]"
      ]
     },
     "execution_count": 12,
     "metadata": {},
     "output_type": "execute_result"
    }
   ],
   "source": [
    "topic_model.get_representative_docs(0)"
   ]
  },
  {
   "cell_type": "code",
   "execution_count": null,
   "metadata": {},
   "outputs": [],
   "source": []
  }
 ],
 "metadata": {
  "kernelspec": {
   "display_name": "base",
   "language": "python",
   "name": "python3"
  },
  "language_info": {
   "codemirror_mode": {
    "name": "ipython",
    "version": 3
   },
   "file_extension": ".py",
   "mimetype": "text/x-python",
   "name": "python",
   "nbconvert_exporter": "python",
   "pygments_lexer": "ipython3",
   "version": "3.11.7"
  }
 },
 "nbformat": 4,
 "nbformat_minor": 2
}
