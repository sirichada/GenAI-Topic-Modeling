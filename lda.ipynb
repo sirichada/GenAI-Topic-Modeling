{
 "cells": [
  {
   "cell_type": "code",
   "execution_count": 6,
   "metadata": {},
   "outputs": [],
   "source": [
    "from bs4 import BeautifulSoup\n",
    "import pandas as pd\n",
    "import sklearn"
   ]
  },
  {
   "cell_type": "code",
   "execution_count": 7,
   "metadata": {},
   "outputs": [
    {
     "name": "stdout",
     "output_type": "stream",
     "text": [
      "                              DOI  \\\n",
      "0       10.47363/jaicc/2024(3)347   \n",
      "1  10.70715/jitcai.2024.v1.i1.004   \n",
      "2            10.2139/ssrn.4782875   \n",
      "3      10.9781/ijimai.2024.02.006   \n",
      "4            10.2139/ssrn.4614223   \n",
      "\n",
      "                                               Title  \\\n",
      "0  Impact of AI and GenAI on Healthcare: Security...   \n",
      "1  The Impact of GenAI on Student Engagement and ...   \n",
      "2  Knowledge Management Perspective of GenAI (GenAI)   \n",
      "3  GenAI in Product Design Education: Navigating ...   \n",
      "4  GenAI Against Humanity: Nefarious Applications...   \n",
      "\n",
      "                                            Abstract  \n",
      "0  <jats:p>This paper aims to understand the impa...  \n",
      "1  <jats:p>The rapid adoption of AI (AI) in highe...  \n",
      "2                                                NaN  \n",
      "3                                                NaN  \n",
      "4                                                NaN  \n",
      "Index(['DOI', 'Title', 'Abstract'], dtype='object')\n"
     ]
    }
   ],
   "source": [
    "# Load the CSV file into a DataFrame\n",
    "df = pd.read_csv('6n.csv')\n",
    "\n",
    "# Inspect the first few rows and columns\n",
    "print(df.head())\n",
    "print(df.columns)"
   ]
  },
  {
   "cell_type": "code",
   "execution_count": 8,
   "metadata": {},
   "outputs": [],
   "source": [
    "# Remove rows where 'Abstract' column has the value 'N/A'\n",
    "df = df[~df['Abstract'].isin(['N/A']) & df['Abstract'].notna()]"
   ]
  },
  {
   "cell_type": "code",
   "execution_count": 9,
   "metadata": {},
   "outputs": [],
   "source": [
    "df.to_csv('6n_cleaned.csv', index=False)"
   ]
  }
 ],
 "metadata": {
  "kernelspec": {
   "display_name": "base",
   "language": "python",
   "name": "python3"
  },
  "language_info": {
   "codemirror_mode": {
    "name": "ipython",
    "version": 3
   },
   "file_extension": ".py",
   "mimetype": "text/x-python",
   "name": "python",
   "nbconvert_exporter": "python",
   "pygments_lexer": "ipython3",
   "version": "3.11.7"
  }
 },
 "nbformat": 4,
 "nbformat_minor": 2
}
