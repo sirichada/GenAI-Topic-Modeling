{
 "cells": [
  {
   "cell_type": "code",
   "execution_count": 1,
   "metadata": {},
   "outputs": [],
   "source": [
    "from bertopic import BERTopic\n",
    "from bs4 import BeautifulSoup\n",
    "import pandas as pd\n",
    "\n",
    "# with reference to https://github.com/kapadias/medium-articles/blob/master/natural-language-processing/topic-modeling/Introduction%20to%20Topic%20Modeling.ipynb"
   ]
  },
  {
   "cell_type": "code",
   "execution_count": 2,
   "metadata": {},
   "outputs": [
    {
     "data": {
      "text/html": [
       "<div>\n",
       "<style scoped>\n",
       "    .dataframe tbody tr th:only-of-type {\n",
       "        vertical-align: middle;\n",
       "    }\n",
       "\n",
       "    .dataframe tbody tr th {\n",
       "        vertical-align: top;\n",
       "    }\n",
       "\n",
       "    .dataframe thead th {\n",
       "        text-align: right;\n",
       "    }\n",
       "</style>\n",
       "<table border=\"1\" class=\"dataframe\">\n",
       "  <thead>\n",
       "    <tr style=\"text-align: right;\">\n",
       "      <th></th>\n",
       "      <th>DOI</th>\n",
       "      <th>Title</th>\n",
       "      <th>Abstract</th>\n",
       "    </tr>\n",
       "  </thead>\n",
       "  <tbody>\n",
       "    <tr>\n",
       "      <th>0</th>\n",
       "      <td>10.47363/jaicc/2024(3)347</td>\n",
       "      <td>Impact of AI and GenAI on Healthcare: Security...</td>\n",
       "      <td>&lt;jats:p&gt;This paper aims to understand the impa...</td>\n",
       "    </tr>\n",
       "    <tr>\n",
       "      <th>1</th>\n",
       "      <td>10.70715/jitcai.2024.v1.i1.004</td>\n",
       "      <td>The Impact of GenAI on Student Engagement and ...</td>\n",
       "      <td>&lt;jats:p&gt;The rapid adoption of AI (AI) in highe...</td>\n",
       "    </tr>\n",
       "    <tr>\n",
       "      <th>2</th>\n",
       "      <td>10.7256/2454-0625.2024.6.70926</td>\n",
       "      <td>Socio-cultural risks of multimodal large gener...</td>\n",
       "      <td>&lt;jats:p&gt;\\n The article is devoted to the study...</td>\n",
       "    </tr>\n",
       "    <tr>\n",
       "      <th>3</th>\n",
       "      <td>10.51191/issn.2637-1898.2024.7.12.12</td>\n",
       "      <td>AI: Duality in Applications of GenAI and Assis...</td>\n",
       "      <td>&lt;jats:p&gt;This paper explores the multifaceted r...</td>\n",
       "    </tr>\n",
       "    <tr>\n",
       "      <th>4</th>\n",
       "      <td>10.1007/s43681-022-00176-2</td>\n",
       "      <td>Review of the state of the art in autonomous AI</td>\n",
       "      <td>&lt;jats:title&gt;Abstract&lt;/jats:title&gt;&lt;jats:p&gt;This ...</td>\n",
       "    </tr>\n",
       "  </tbody>\n",
       "</table>\n",
       "</div>"
      ],
      "text/plain": [
       "                                    DOI  \\\n",
       "0             10.47363/jaicc/2024(3)347   \n",
       "1        10.70715/jitcai.2024.v1.i1.004   \n",
       "2        10.7256/2454-0625.2024.6.70926   \n",
       "3  10.51191/issn.2637-1898.2024.7.12.12   \n",
       "4            10.1007/s43681-022-00176-2   \n",
       "\n",
       "                                               Title  \\\n",
       "0  Impact of AI and GenAI on Healthcare: Security...   \n",
       "1  The Impact of GenAI on Student Engagement and ...   \n",
       "2  Socio-cultural risks of multimodal large gener...   \n",
       "3  AI: Duality in Applications of GenAI and Assis...   \n",
       "4    Review of the state of the art in autonomous AI   \n",
       "\n",
       "                                            Abstract  \n",
       "0  <jats:p>This paper aims to understand the impa...  \n",
       "1  <jats:p>The rapid adoption of AI (AI) in highe...  \n",
       "2  <jats:p>\\n The article is devoted to the study...  \n",
       "3  <jats:p>This paper explores the multifaceted r...  \n",
       "4  <jats:title>Abstract</jats:title><jats:p>This ...  "
      ]
     },
     "execution_count": 2,
     "metadata": {},
     "output_type": "execute_result"
    }
   ],
   "source": [
    "# Load the CSV file into a DataFrame\n",
    "df = pd.read_csv('6n_cleaned.csv', error_bad_lines=False)\n",
    "\n",
    "df.head()"
   ]
  },
  {
   "cell_type": "code",
   "execution_count": 3,
   "metadata": {},
   "outputs": [],
   "source": [
    "# Define the cleaning function\n",
    "def clean_html_xml(text):\n",
    "    # Create a BeautifulSoup object to parse the HTML/XML\n",
    "    soup = BeautifulSoup(text, 'html.parser')\n",
    "    # Extract and return text without HTML/XML tags\n",
    "    return soup.get_text()"
   ]
  },
  {
   "cell_type": "code",
   "execution_count": 4,
   "metadata": {},
   "outputs": [],
   "source": [
    "df['cleaned_text'] = df['Abstract'].apply(clean_html_xml)"
   ]
  },
  {
   "cell_type": "code",
   "execution_count": 5,
   "metadata": {},
   "outputs": [
    {
     "data": {
      "text/html": [
       "<div>\n",
       "<style scoped>\n",
       "    .dataframe tbody tr th:only-of-type {\n",
       "        vertical-align: middle;\n",
       "    }\n",
       "\n",
       "    .dataframe tbody tr th {\n",
       "        vertical-align: top;\n",
       "    }\n",
       "\n",
       "    .dataframe thead th {\n",
       "        text-align: right;\n",
       "    }\n",
       "</style>\n",
       "<table border=\"1\" class=\"dataframe\">\n",
       "  <thead>\n",
       "    <tr style=\"text-align: right;\">\n",
       "      <th></th>\n",
       "      <th>cleaned_text</th>\n",
       "    </tr>\n",
       "  </thead>\n",
       "  <tbody>\n",
       "    <tr>\n",
       "      <th>0</th>\n",
       "      <td>This paper aims to understand the impact of AI...</td>\n",
       "    </tr>\n",
       "    <tr>\n",
       "      <th>1</th>\n",
       "      <td>The rapid adoption of AI (AI) in higher educat...</td>\n",
       "    </tr>\n",
       "    <tr>\n",
       "      <th>2</th>\n",
       "      <td>\\n The article is devoted to the study of the ...</td>\n",
       "    </tr>\n",
       "    <tr>\n",
       "      <th>3</th>\n",
       "      <td>This paper explores the multifaceted role of A...</td>\n",
       "    </tr>\n",
       "    <tr>\n",
       "      <th>4</th>\n",
       "      <td>AbstractThis article presents a new design for...</td>\n",
       "    </tr>\n",
       "  </tbody>\n",
       "</table>\n",
       "</div>"
      ],
      "text/plain": [
       "                                        cleaned_text\n",
       "0  This paper aims to understand the impact of AI...\n",
       "1  The rapid adoption of AI (AI) in higher educat...\n",
       "2  \\n The article is devoted to the study of the ...\n",
       "3  This paper explores the multifaceted role of A...\n",
       "4  AbstractThis article presents a new design for..."
      ]
     },
     "execution_count": 5,
     "metadata": {},
     "output_type": "execute_result"
    }
   ],
   "source": [
    "# Remove the columns\n",
    "df = df.drop(columns=['DOI', 'Title', 'Abstract'], axis=1)\n",
    "\n",
    "df.head()"
   ]
  },
  {
   "cell_type": "code",
   "execution_count": 6,
   "metadata": {},
   "outputs": [
    {
     "name": "stdout",
     "output_type": "stream",
     "text": [
      "['aims', 'understand', 'impact', 'healthcare', 'sector', 'grows', 'becomes', 'integral', 'part', 'healthcare', 'system', 'components', 'diagnosis', 'process', 'development', 'personalized', 'treatments', 'improvement', 'overall', 'patient', 'care', 'however', 'enhancements', 'raise', 'severe', 'concerns', 'regarding', 'security', 'privacy', 'patients']\n"
     ]
    },
    {
     "name": "stderr",
     "output_type": "stream",
     "text": [
      "[nltk_data] Downloading package stopwords to /Users/siri/nltk_data...\n",
      "[nltk_data]   Package stopwords is already up-to-date!\n"
     ]
    }
   ],
   "source": [
    "import gensim\n",
    "from gensim.utils import simple_preprocess\n",
    "import nltk\n",
    "nltk.download('stopwords')\n",
    "from nltk.corpus import stopwords\n",
    "\n",
    "stop_words = stopwords.words('english')\n",
    "stop_words.extend(['ai', 'ethics', 'research', 'genai', 'ethical', 'data', 'human', 'paper', 'study', 'potential', 'systems'])\n",
    "\n",
    "def sent_to_words(sentences):\n",
    "    for sentence in sentences:\n",
    "        # deacc=True removes punctuations\n",
    "        yield(gensim.utils.simple_preprocess(str(sentence), deacc=True))\n",
    "\n",
    "def remove_stopwords(texts):\n",
    "    return [[word for word in simple_preprocess(str(doc)) \n",
    "             if word not in stop_words] for doc in texts]\n",
    "\n",
    "data = df.cleaned_text.values.tolist()\n",
    "data_words = list(sent_to_words(data))\n",
    "\n",
    "# remove stop words\n",
    "data_words = remove_stopwords(data_words)\n",
    "\n",
    "print(data_words[:1][0][:30])"
   ]
  },
  {
   "cell_type": "code",
   "execution_count": 7,
   "metadata": {},
   "outputs": [
    {
     "name": "stdout",
     "output_type": "stream",
     "text": [
      "[(0, 1), (1, 1), (2, 1), (3, 1), (4, 1), (5, 1), (6, 1), (7, 1), (8, 1), (9, 2), (10, 1), (11, 1), (12, 1), (13, 1), (14, 1), (15, 1), (16, 1), (17, 1), (18, 1), (19, 1), (20, 1), (21, 1), (22, 1), (23, 1), (24, 1), (25, 1), (26, 1), (27, 1), (28, 1)]\n"
     ]
    }
   ],
   "source": [
    "import gensim.corpora as corpora\n",
    "\n",
    "# Create Dictionary\n",
    "id2word = corpora.Dictionary(data_words)\n",
    "\n",
    "# Create Corpus\n",
    "texts = data_words\n",
    "\n",
    "# Term Document Frequency\n",
    "corpus = [id2word.doc2bow(text) for text in texts]\n",
    "\n",
    "# View\n",
    "print(corpus[:1][0][:30])"
   ]
  },
  {
   "cell_type": "code",
   "execution_count": 8,
   "metadata": {},
   "outputs": [
    {
     "name": "stdout",
     "output_type": "stream",
     "text": [
      "[(0,\n",
      "  '0.006*\"tools\" + 0.004*\"learning\" + 0.004*\"use\" + 0.003*\"applications\" + '\n",
      "  '0.003*\"future\" + 0.003*\"art\" + 0.003*\"issues\" + 0.003*\"students\" + '\n",
      "  '0.003*\"concerns\" + 0.003*\"impact\"'),\n",
      " (1,\n",
      "  '0.005*\"learning\" + 0.004*\"challenges\" + 0.004*\"development\" + '\n",
      "  '0.003*\"approach\" + 0.003*\"technologies\" + 0.003*\"based\" + 0.003*\"new\" + '\n",
      "  '0.003*\"education\" + 0.003*\"also\" + 0.003*\"within\"'),\n",
      " (2,\n",
      "  '0.008*\"technologies\" + 0.007*\"moral\" + 0.005*\"use\" + 0.004*\"model\" + '\n",
      "  '0.004*\"also\" + 0.004*\"healthcare\" + 0.004*\"development\" + 0.004*\"impact\" + '\n",
      "  '0.004*\"issues\" + 0.003*\"content\"'),\n",
      " (3,\n",
      "  '0.004*\"development\" + 0.004*\"learning\" + 0.004*\"use\" + 0.004*\"technology\" + '\n",
      "  '0.004*\"issues\" + 0.003*\"using\" + 0.003*\"concerns\" + 0.003*\"challenges\" + '\n",
      "  '0.003*\"healthcare\" + 0.003*\"technologies\"'),\n",
      " (4,\n",
      "  '0.009*\"use\" + 0.007*\"learning\" + 0.006*\"technology\" + 0.005*\"students\" + '\n",
      "  '0.005*\"new\" + 0.005*\"education\" + 0.005*\"tools\" + 0.005*\"art\" + '\n",
      "  '0.004*\"development\" + 0.004*\"future\"'),\n",
      " (5,\n",
      "  '0.005*\"technology\" + 0.005*\"students\" + 0.004*\"model\" + 0.004*\"development\" '\n",
      "  '+ 0.004*\"impact\" + 0.004*\"work\" + 0.003*\"models\" + 0.003*\"technologies\" + '\n",
      "  '0.003*\"however\" + 0.003*\"use\"'),\n",
      " (6,\n",
      "  '0.006*\"use\" + 0.004*\"based\" + 0.004*\"using\" + 0.004*\"impact\" + '\n",
      "  '0.004*\"models\" + 0.003*\"applications\" + 0.003*\"de\" + 0.003*\"challenges\" + '\n",
      "  '0.003*\"development\" + 0.003*\"technology\"'),\n",
      " (7,\n",
      "  '0.006*\"model\" + 0.005*\"development\" + 0.004*\"social\" + 0.004*\"based\" + '\n",
      "  '0.003*\"results\" + 0.003*\"learning\" + 0.003*\"models\" + 0.003*\"used\" + '\n",
      "  '0.003*\"field\" + 0.003*\"technology\"'),\n",
      " (8,\n",
      "  '0.007*\"learning\" + 0.005*\"issues\" + 0.004*\"development\" + 0.004*\"work\" + '\n",
      "  '0.003*\"use\" + 0.003*\"literature\" + 0.003*\"healthcare\" + 0.003*\"moral\" + '\n",
      "  '0.003*\"impact\" + 0.003*\"challenges\"'),\n",
      " (9,\n",
      "  '0.006*\"learning\" + 0.005*\"healthcare\" + 0.004*\"technology\" + '\n",
      "  '0.004*\"digital\" + 0.004*\"impact\" + 0.004*\"education\" + 0.003*\"challenges\" + '\n",
      "  '0.003*\"music\" + 0.003*\"implications\" + 0.003*\"design\"')]\n"
     ]
    }
   ],
   "source": [
    "from pprint import pprint\n",
    "\n",
    "# number of topics\n",
    "num_topics = 10\n",
    "\n",
    "# Build LDA model\n",
    "lda_model = gensim.models.LdaMulticore(corpus=corpus,\n",
    "                                       id2word=id2word,\n",
    "                                       num_topics=num_topics)\n",
    "\n",
    "# Print the Keyword in the 10 topics\n",
    "pprint(lda_model.print_topics())\n",
    "doc_lda = lda_model[corpus]"
   ]
  },
  {
   "cell_type": "code",
   "execution_count": 9,
   "metadata": {},
   "outputs": [
    {
     "name": "stdout",
     "output_type": "stream",
     "text": [
      "\n",
      "Number of documents per topic:\n",
      "Topic 0 (tools, learning, use): 37 documents\n",
      "Topic 1 (learning, challenges, development): 39 documents\n",
      "Topic 2 (technologies, moral, use): 43 documents\n",
      "Topic 3 (development, learning, use): 25 documents\n",
      "Topic 4 (use, learning, technology): 105 documents\n",
      "Topic 5 (technology, students, model): 49 documents\n",
      "Topic 6 (use, based, using): 34 documents\n",
      "Topic 7 (model, development, social): 34 documents\n",
      "Topic 8 (learning, issues, development): 37 documents\n",
      "Topic 9 (learning, healthcare, technology): 31 documents\n"
     ]
    },
    {
     "data": {
      "image/png": "[encoded data removed]",
      "text/plain": [
       "<Figure size 1000x600 with 1 Axes>"
      ]
     },
     "metadata": {},
     "output_type": "display_data"
    }
   ],
   "source": [
    "# Get the dominant topic for each document\n",
    "dominant_topics = []\n",
    "for doc in doc_lda:\n",
    "    # Sort topics by probability for this document\n",
    "    sorted_topics = sorted(doc, key=lambda x: x[1], reverse=True)\n",
    "    # Get the dominant topic (topic with highest probability)\n",
    "    dominant_topic = sorted_topics[0][0]\n",
    "    dominant_topics.append(dominant_topic)\n",
    "\n",
    "# Count documents per topic\n",
    "from collections import Counter\n",
    "topic_counts = Counter(dominant_topics)\n",
    "\n",
    "# Create a sorted dictionary of topic counts\n",
    "topic_distribution = {topic: topic_counts[topic] for topic in range(num_topics)}\n",
    "\n",
    "# Print results\n",
    "print(\"\\nNumber of documents per topic:\")\n",
    "for topic, count in topic_distribution.items():\n",
    "    # Get the top words for this topic\n",
    "    top_words = lda_model.show_topic(topic, topn=3)\n",
    "    words = \", \".join([word for word, prob in top_words])\n",
    "    print(f\"Topic {topic} ({words}): {count} documents\")\n",
    "\n",
    "# Optional: Create a visualization\n",
    "import matplotlib.pyplot as plt\n",
    "\n",
    "plt.figure(figsize=(10, 6))\n",
    "plt.bar(topic_distribution.keys(), topic_distribution.values())\n",
    "plt.xlabel('Topic Number')\n",
    "plt.ylabel('Number of Documents')\n",
    "plt.title('Distribution of Documents Across Topics')\n",
    "plt.xticks(range(num_topics))\n",
    "plt.show()"
   ]
  }
 ],
 "metadata": {
  "kernelspec": {
   "display_name": "base",
   "language": "python",
   "name": "python3"
  },
  "language_info": {
   "codemirror_mode": {
    "name": "ipython",
    "version": 3
   },
   "file_extension": ".py",
   "mimetype": "text/x-python",
   "name": "python",
   "nbconvert_exporter": "python",
   "pygments_lexer": "ipython3",
   "version": "3.11.7"
  }
 },
 "nbformat": 4,
 "nbformat_minor": 2
}
