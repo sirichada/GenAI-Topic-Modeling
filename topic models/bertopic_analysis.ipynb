{
 "cells": [
  {
   "cell_type": "code",
   "execution_count": 1,
   "metadata": {},
   "outputs": [],
   "source": [
    "import pandas as pd\n",
    "from bertopic import BERTopic\n",
    "from bs4 import BeautifulSoup\n",
    "from sklearn.feature_extraction.text import CountVectorizer\n",
    "import numpy as np"
   ]
  },
  {
   "cell_type": "code",
   "execution_count": 4,
   "metadata": {},
   "outputs": [],
   "source": [
    "def load_and_process_data(file_path, model_path):\n",
    "    \"\"\"\n",
    "    Load data, clean text, and load BERTopic model\n",
    "    \n",
    "    Parameters:\n",
    "    file_path (str): Path to the CSV file\n",
    "    model_path (str): Path to the saved BERTopic model\n",
    "    \n",
    "    Returns:\n",
    "    tuple: (cleaned_docs, topic_model)\n",
    "    \"\"\"\n",
    "    # Load the CSV file with error handling\n",
    "    try:\n",
    "        df = pd.read_csv(file_path, on_bad_lines='skip')\n",
    "    except Exception as e:\n",
    "        print(f\"Error loading CSV: {e}\")\n",
    "        return None, None\n",
    "    \n",
    "    # Define the cleaning function\n",
    "    def clean_html_xml(text):\n",
    "        if pd.isna(text):  # Handle NaN values\n",
    "            return \"\"\n",
    "        try:\n",
    "            soup = BeautifulSoup(str(text), 'html.parser')\n",
    "            return soup.get_text().strip()\n",
    "        except Exception as e:\n",
    "            print(f\"Error cleaning text: {e}\")\n",
    "            return \"\"\n",
    "    \n",
    "    # Clean the abstracts\n",
    "    print(\"Cleaning text data...\")\n",
    "    df['cleaned_text'] = df['Abstract'].apply(clean_html_xml)\n",
    "    \n",
    "    # Remove empty strings and get clean documents\n",
    "    docs = df['cleaned_text'].tolist()\n",
    "    \n",
    "    # Load the saved model\n",
    "    try:\n",
    "        print(\"Loading BERTopic model...\")\n",
    "        topic_model = BERTopic.load(model_path)\n",
    "        print(\"Model loaded successfully!\")\n",
    "    except FileNotFoundError:\n",
    "        print(\"Model file not found. Creating new model...\")\n",
    "        # Initialize new model if saved model doesn't exist\n",
    "        vectorizer_model = CountVectorizer(stop_words=\"english\")\n",
    "        topic_model = BERTopic(vectorizer_model=vectorizer_model)\n",
    "        \n",
    "    return docs, topic_model"
   ]
  },
  {
   "cell_type": "code",
   "execution_count": 5,
   "metadata": {},
   "outputs": [
    {
     "name": "stdout",
     "output_type": "stream",
     "text": [
      "Cleaning text data...\n",
      "Loading BERTopic model...\n",
      "Model loaded successfully!\n"
     ]
    }
   ],
   "source": [
    "docs, topic_model = load_and_process_data('6n_cleaned.csv', 'bertopic_model')\n"
   ]
  },
  {
   "cell_type": "code",
   "execution_count": 6,
   "metadata": {},
   "outputs": [
    {
     "data": {
      "text/plain": [
       "<bertopic._bertopic.BERTopic at 0x33180ea10>"
      ]
     },
     "execution_count": 6,
     "metadata": {},
     "output_type": "execute_result"
    }
   ],
   "source": [
    "topic_model.fit(docs)"
   ]
  },
  {
   "cell_type": "code",
   "execution_count": 9,
   "metadata": {},
   "outputs": [],
   "source": [
    "df = pd.read_csv('6n_cleaned.csv')\n",
    "\n",
    "topics, _ = topic_model.transform(docs)\n",
    "\n",
    "# Add the assigned topics as a new column\n",
    "df['assigned_topic'] = topics"
   ]
  },
  {
   "cell_type": "code",
   "execution_count": 10,
   "metadata": {},
   "outputs": [],
   "source": [
    "df.to_csv('exported_data.csv', index=False)"
   ]
  },
  {
   "cell_type": "code",
   "execution_count": 7,
   "metadata": {},
   "outputs": [
    {
     "data": {
      "text/html": [
       "<div>\n",
       "<style scoped>\n",
       "    .dataframe tbody tr th:only-of-type {\n",
       "        vertical-align: middle;\n",
       "    }\n",
       "\n",
       "    .dataframe tbody tr th {\n",
       "        vertical-align: top;\n",
       "    }\n",
       "\n",
       "    .dataframe thead th {\n",
       "        text-align: right;\n",
       "    }\n",
       "</style>\n",
       "<table border=\"1\" class=\"dataframe\">\n",
       "  <thead>\n",
       "    <tr style=\"text-align: right;\">\n",
       "      <th></th>\n",
       "      <th>Topic</th>\n",
       "      <th>Count</th>\n",
       "      <th>Name</th>\n",
       "      <th>Representation</th>\n",
       "      <th>Representative_Docs</th>\n",
       "    </tr>\n",
       "  </thead>\n",
       "  <tbody>\n",
       "    <tr>\n",
       "      <th>0</th>\n",
       "      <td>-1</td>\n",
       "      <td>115</td>\n",
       "      <td>-1_ai_research_genai_ethical</td>\n",
       "      <td>[ai, research, genai, ethical, impact, data, u...</td>\n",
       "      <td>[This integrative literature review (ILR) exam...</td>\n",
       "    </tr>\n",
       "    <tr>\n",
       "      <th>1</th>\n",
       "      <td>0</td>\n",
       "      <td>108</td>\n",
       "      <td>0_ai_ethical_ethics_moral</td>\n",
       "      <td>[ai, ethical, ethics, moral, human, developmen...</td>\n",
       "      <td>[Aim: AI systems can be complex and opaque, ma...</td>\n",
       "    </tr>\n",
       "    <tr>\n",
       "      <th>2</th>\n",
       "      <td>1</td>\n",
       "      <td>60</td>\n",
       "      <td>1_students_genai_learning_education</td>\n",
       "      <td>[students, genai, learning, education, ai, edu...</td>\n",
       "      <td>[Integrating GenAI into education has sparked ...</td>\n",
       "    </tr>\n",
       "    <tr>\n",
       "      <th>3</th>\n",
       "      <td>2</td>\n",
       "      <td>40</td>\n",
       "      <td>2_art_ai_creative_content</td>\n",
       "      <td>[art, ai, creative, content, music, genai, new...</td>\n",
       "      <td>[The integration of GenAI (AI) tools in art an...</td>\n",
       "    </tr>\n",
       "    <tr>\n",
       "      <th>4</th>\n",
       "      <td>3</td>\n",
       "      <td>28</td>\n",
       "      <td>3_healthcare_medical_ai_care</td>\n",
       "      <td>[healthcare, medical, ai, care, patient, data,...</td>\n",
       "      <td>[AI (AI) is revolutionizing the healthcare sec...</td>\n",
       "    </tr>\n",
       "    <tr>\n",
       "      <th>5</th>\n",
       "      <td>4</td>\n",
       "      <td>25</td>\n",
       "      <td>4_business_marketing_genai_customer</td>\n",
       "      <td>[business, marketing, genai, customer, study, ...</td>\n",
       "      <td>[The research paper investigates the comparati...</td>\n",
       "    </tr>\n",
       "    <tr>\n",
       "      <th>6</th>\n",
       "      <td>5</td>\n",
       "      <td>18</td>\n",
       "      <td>5_data_gan_generative_network</td>\n",
       "      <td>[data, gan, generative, network, models, adver...</td>\n",
       "      <td>[&lt;p&gt;&lt;span lang=\"EN-US\"&gt;Research in the field o...</td>\n",
       "    </tr>\n",
       "    <tr>\n",
       "      <th>7</th>\n",
       "      <td>6</td>\n",
       "      <td>15</td>\n",
       "      <td>6_ethical_healthcare_ai_principles</td>\n",
       "      <td>[ethical, healthcare, ai, principles, issues, ...</td>\n",
       "      <td>[Public and private investments into developin...</td>\n",
       "    </tr>\n",
       "    <tr>\n",
       "      <th>8</th>\n",
       "      <td>7</td>\n",
       "      <td>14</td>\n",
       "      <td>7_genai_text_extraction_language</td>\n",
       "      <td>[genai, text, extraction, language, news, docu...</td>\n",
       "      <td>[This study is an in-depth exploration of the ...</td>\n",
       "    </tr>\n",
       "    <tr>\n",
       "      <th>9</th>\n",
       "      <td>8</td>\n",
       "      <td>11</td>\n",
       "      <td>8_security_cybersecurity_cyber_threats</td>\n",
       "      <td>[security, cybersecurity, cyber, threats, ai, ...</td>\n",
       "      <td>[AbstractThis paper examines the ethical oblig...</td>\n",
       "    </tr>\n",
       "  </tbody>\n",
       "</table>\n",
       "</div>"
      ],
      "text/plain": [
       "   Topic  Count                                    Name  \\\n",
       "0     -1    115            -1_ai_research_genai_ethical   \n",
       "1      0    108               0_ai_ethical_ethics_moral   \n",
       "2      1     60     1_students_genai_learning_education   \n",
       "3      2     40               2_art_ai_creative_content   \n",
       "4      3     28            3_healthcare_medical_ai_care   \n",
       "5      4     25     4_business_marketing_genai_customer   \n",
       "6      5     18           5_data_gan_generative_network   \n",
       "7      6     15      6_ethical_healthcare_ai_principles   \n",
       "8      7     14        7_genai_text_extraction_language   \n",
       "9      8     11  8_security_cybersecurity_cyber_threats   \n",
       "\n",
       "                                      Representation  \\\n",
       "0  [ai, research, genai, ethical, impact, data, u...   \n",
       "1  [ai, ethical, ethics, moral, human, developmen...   \n",
       "2  [students, genai, learning, education, ai, edu...   \n",
       "3  [art, ai, creative, content, music, genai, new...   \n",
       "4  [healthcare, medical, ai, care, patient, data,...   \n",
       "5  [business, marketing, genai, customer, study, ...   \n",
       "6  [data, gan, generative, network, models, adver...   \n",
       "7  [ethical, healthcare, ai, principles, issues, ...   \n",
       "8  [genai, text, extraction, language, news, docu...   \n",
       "9  [security, cybersecurity, cyber, threats, ai, ...   \n",
       "\n",
       "                                 Representative_Docs  \n",
       "0  [This integrative literature review (ILR) exam...  \n",
       "1  [Aim: AI systems can be complex and opaque, ma...  \n",
       "2  [Integrating GenAI into education has sparked ...  \n",
       "3  [The integration of GenAI (AI) tools in art an...  \n",
       "4  [AI (AI) is revolutionizing the healthcare sec...  \n",
       "5  [The research paper investigates the comparati...  \n",
       "6  [<p><span lang=\"EN-US\">Research in the field o...  \n",
       "7  [Public and private investments into developin...  \n",
       "8  [This study is an in-depth exploration of the ...  \n",
       "9  [AbstractThis paper examines the ethical oblig...  "
      ]
     },
     "execution_count": 7,
     "metadata": {},
     "output_type": "execute_result"
    }
   ],
   "source": [
    "topic_model.get_topic_info()"
   ]
  },
  {
   "cell_type": "code",
   "execution_count": 8,
   "metadata": {},
   "outputs": [
    {
     "data": {
      "application/vnd.plotly.v1+json": {
       "config": {
        "plotlyServerURL": "https://plot.ly"
       },
       "data": [
        {
         "coloraxis": "coloraxis",
         "hovertemplate": "x: %{x}<br>y: %{y}<br>Similarity Score: %{z}<extra></extra>",
         "name": "0",
         "type": "heatmap",
         "x": [
          "0_ai_ethical_ethics",
          "1_students_genai_learning",
          "2_art_ai_creative",
          "3_healthcare_medical_ai",
          "4_business_marketing_genai",
          "5_data_gan_generative",
          "6_ethical_healthcare_ai",
          "7_genai_text_extraction",
          "8_security_cybersecurity_cy..."
         ],
         "xaxis": "x",
         "y": [
          "0_ai_ethical_ethics",
          "1_students_genai_learning",
          "2_art_ai_creative",
          "3_healthcare_medical_ai",
          "4_business_marketing_genai",
          "5_data_gan_generative",
          "6_ethical_healthcare_ai",
          "7_genai_text_extraction",
          "8_security_cybersecurity_cy..."
         ],
         "yaxis": "y",
         "z": [
          [
           1.000000238418579,
           0.6399831771850586,
           0.678824782371521,
           0.6202000379562378,
           0.5975413918495178,
           0.2968630790710449,
           0.8306610584259033,
           0.4585580825805664,
           0.7760930061340332
          ],
          [
           0.6399831771850586,
           0.9999998211860657,
           0.6170857548713684,
           0.5267762541770935,
           0.6488653421401978,
           0.3408200442790985,
           0.5226389169692993,
           0.551749587059021,
           0.543071985244751
          ],
          [
           0.678824782371521,
           0.6170857548713684,
           0.9999999403953552,
           0.49424442648887634,
           0.6167351007461548,
           0.43159347772598267,
           0.5318198204040527,
           0.5638593435287476,
           0.5177655816078186
          ],
          [
           0.6202000379562378,
           0.5267762541770935,
           0.49424442648887634,
           0.9999999403953552,
           0.5935264825820923,
           0.5235434770584106,
           0.7990754842758179,
           0.4769463837146759,
           0.5559331774711609
          ],
          [
           0.5975413918495178,
           0.6488653421401978,
           0.6167351007461548,
           0.5935264825820923,
           1,
           0.3920592963695526,
           0.5046314001083374,
           0.5759540796279907,
           0.571247935295105
          ],
          [
           0.2968630790710449,
           0.3408200442790985,
           0.43159347772598267,
           0.5235434770584106,
           0.3920592963695526,
           0.9999998807907104,
           0.2938843369483948,
           0.5497274994850159,
           0.39151763916015625
          ],
          [
           0.8306610584259033,
           0.5226389169692993,
           0.5318198204040527,
           0.7990754842758179,
           0.5046314001083374,
           0.2938843369483948,
           1.0000001192092896,
           0.3464231491088867,
           0.6334967613220215
          ],
          [
           0.4585580825805664,
           0.551749587059021,
           0.5638593435287476,
           0.4769463837146759,
           0.5759540796279907,
           0.5497274994850159,
           0.3464231491088867,
           1,
           0.4180918037891388
          ],
          [
           0.7760930061340332,
           0.543071985244751,
           0.5177655816078186,
           0.5559331774711609,
           0.571247935295105,
           0.39151763916015625,
           0.6334967613220215,
           0.4180918037891388,
           1.000000238418579
          ]
         ]
        }
       ],
       "layout": {
        "coloraxis": {
         "colorbar": {
          "title": {
           "text": "Similarity Score"
          }
         },
         "colorscale": [
          [
           0,
           "rgb(247,252,240)"
          ],
          [
           0.125,
           "rgb(224,243,219)"
          ],
          [
           0.25,
           "rgb(204,235,197)"
          ],
          [
           0.375,
           "rgb(168,221,181)"
          ],
          [
           0.5,
           "rgb(123,204,196)"
          ],
          [
           0.625,
           "rgb(78,179,211)"
          ],
          [
           0.75,
           "rgb(43,140,190)"
          ],
          [
           0.875,
           "rgb(8,104,172)"
          ],
          [
           1,
           "rgb(8,64,129)"
          ]
         ]
        },
        "height": 800,
        "hoverlabel": {
         "bgcolor": "white",
         "font": {
          "family": "Rockwell",
          "size": 16
         }
        },
        "legend": {
         "title": {
          "text": "Trend"
         }
        },
        "margin": {
         "t": 60
        },
        "showlegend": true,
        "template": {
         "data": {
          "bar": [
           {
            "error_x": {
             "color": "#2a3f5f"
            },
            "error_y": {
             "color": "#2a3f5f"
            },
            "marker": {
             "line": {
              "color": "#E5ECF6",
              "width": 0.5
             },
             "pattern": {
              "fillmode": "overlay",
              "size": 10,
              "solidity": 0.2
             }
            },
            "type": "bar"
           }
          ],
          "barpolar": [
           {
            "marker": {
             "line": {
              "color": "#E5ECF6",
              "width": 0.5
             },
             "pattern": {
              "fillmode": "overlay",
              "size": 10,
              "solidity": 0.2
             }
            },
            "type": "barpolar"
           }
          ],
          "carpet": [
           {
            "aaxis": {
             "endlinecolor": "#2a3f5f",
             "gridcolor": "white",
             "linecolor": "white",
             "minorgridcolor": "white",
             "startlinecolor": "#2a3f5f"
            },
            "baxis": {
             "endlinecolor": "#2a3f5f",
             "gridcolor": "white",
             "linecolor": "white",
             "minorgridcolor": "white",
             "startlinecolor": "#2a3f5f"
            },
            "type": "carpet"
           }
          ],
          "choropleth": [
           {
            "colorbar": {
             "outlinewidth": 0,
             "ticks": ""
            },
            "type": "choropleth"
           }
          ],
          "contour": [
           {
            "colorbar": {
             "outlinewidth": 0,
             "ticks": ""
            },
            "colorscale": [
             [
              0,
              "#0d0887"
             ],
             [
              0.1111111111111111,
              "#46039f"
             ],
             [
              0.2222222222222222,
              "#7201a8"
             ],
             [
              0.3333333333333333,
              "#9c179e"
             ],
             [
              0.4444444444444444,
              "#bd3786"
             ],
             [
              0.5555555555555556,
              "#d8576b"
             ],
             [
              0.6666666666666666,
              "#ed7953"
             ],
             [
              0.7777777777777778,
              "#fb9f3a"
             ],
             [
              0.8888888888888888,
              "#fdca26"
             ],
             [
              1,
              "#f0f921"
             ]
            ],
            "type": "contour"
           }
          ],
          "contourcarpet": [
           {
            "colorbar": {
             "outlinewidth": 0,
             "ticks": ""
            },
            "type": "contourcarpet"
           }
          ],
          "heatmap": [
           {
            "colorbar": {
             "outlinewidth": 0,
             "ticks": ""
            },
            "colorscale": [
             [
              0,
              "#0d0887"
             ],
             [
              0.1111111111111111,
              "#46039f"
             ],
             [
              0.2222222222222222,
              "#7201a8"
             ],
             [
              0.3333333333333333,
              "#9c179e"
             ],
             [
              0.4444444444444444,
              "#bd3786"
             ],
             [
              0.5555555555555556,
              "#d8576b"
             ],
             [
              0.6666666666666666,
              "#ed7953"
             ],
             [
              0.7777777777777778,
              "#fb9f3a"
             ],
             [
              0.8888888888888888,
              "#fdca26"
             ],
             [
              1,
              "#f0f921"
             ]
            ],
            "type": "heatmap"
           }
          ],
          "heatmapgl": [
           {
            "colorbar": {
             "outlinewidth": 0,
             "ticks": ""
            },
            "colorscale": [
             [
              0,
              "#0d0887"
             ],
             [
              0.1111111111111111,
              "#46039f"
             ],
             [
              0.2222222222222222,
              "#7201a8"
             ],
             [
              0.3333333333333333,
              "#9c179e"
             ],
             [
              0.4444444444444444,
              "#bd3786"
             ],
             [
              0.5555555555555556,
              "#d8576b"
             ],
             [
              0.6666666666666666,
              "#ed7953"
             ],
             [
              0.7777777777777778,
              "#fb9f3a"
             ],
             [
              0.8888888888888888,
              "#fdca26"
             ],
             [
              1,
              "#f0f921"
             ]
            ],
            "type": "heatmapgl"
           }
          ],
          "histogram": [
           {
            "marker": {
             "pattern": {
              "fillmode": "overlay",
              "size": 10,
              "solidity": 0.2
             }
            },
            "type": "histogram"
           }
          ],
          "histogram2d": [
           {
            "colorbar": {
             "outlinewidth": 0,
             "ticks": ""
            },
            "colorscale": [
             [
              0,
              "#0d0887"
             ],
             [
              0.1111111111111111,
              "#46039f"
             ],
             [
              0.2222222222222222,
              "#7201a8"
             ],
             [
              0.3333333333333333,
              "#9c179e"
             ],
             [
              0.4444444444444444,
              "#bd3786"
             ],
             [
              0.5555555555555556,
              "#d8576b"
             ],
             [
              0.6666666666666666,
              "#ed7953"
             ],
             [
              0.7777777777777778,
              "#fb9f3a"
             ],
             [
              0.8888888888888888,
              "#fdca26"
             ],
             [
              1,
              "#f0f921"
             ]
            ],
            "type": "histogram2d"
           }
          ],
          "histogram2dcontour": [
           {
            "colorbar": {
             "outlinewidth": 0,
             "ticks": ""
            },
            "colorscale": [
             [
              0,
              "#0d0887"
             ],
             [
              0.1111111111111111,
              "#46039f"
             ],
             [
              0.2222222222222222,
              "#7201a8"
             ],
             [
              0.3333333333333333,
              "#9c179e"
             ],
             [
              0.4444444444444444,
              "#bd3786"
             ],
             [
              0.5555555555555556,
              "#d8576b"
             ],
             [
              0.6666666666666666,
              "#ed7953"
             ],
             [
              0.7777777777777778,
              "#fb9f3a"
             ],
             [
              0.8888888888888888,
              "#fdca26"
             ],
             [
              1,
              "#f0f921"
             ]
            ],
            "type": "histogram2dcontour"
           }
          ],
          "mesh3d": [
           {
            "colorbar": {
             "outlinewidth": 0,
             "ticks": ""
            },
            "type": "mesh3d"
           }
          ],
          "parcoords": [
           {
            "line": {
             "colorbar": {
              "outlinewidth": 0,
              "ticks": ""
             }
            },
            "type": "parcoords"
           }
          ],
          "pie": [
           {
            "automargin": true,
            "type": "pie"
           }
          ],
          "scatter": [
           {
            "fillpattern": {
             "fillmode": "overlay",
             "size": 10,
             "solidity": 0.2
            },
            "type": "scatter"
           }
          ],
          "scatter3d": [
           {
            "line": {
             "colorbar": {
              "outlinewidth": 0,
              "ticks": ""
             }
            },
            "marker": {
             "colorbar": {
              "outlinewidth": 0,
              "ticks": ""
             }
            },
            "type": "scatter3d"
           }
          ],
          "scattercarpet": [
           {
            "marker": {
             "colorbar": {
              "outlinewidth": 0,
              "ticks": ""
             }
            },
            "type": "scattercarpet"
           }
          ],
          "scattergeo": [
           {
            "marker": {
             "colorbar": {
              "outlinewidth": 0,
              "ticks": ""
             }
            },
            "type": "scattergeo"
           }
          ],
          "scattergl": [
           {
            "marker": {
             "colorbar": {
              "outlinewidth": 0,
              "ticks": ""
             }
            },
            "type": "scattergl"
           }
          ],
          "scattermapbox": [
           {
            "marker": {
             "colorbar": {
              "outlinewidth": 0,
              "ticks": ""
             }
            },
            "type": "scattermapbox"
           }
          ],
          "scatterpolar": [
           {
            "marker": {
             "colorbar": {
              "outlinewidth": 0,
              "ticks": ""
             }
            },
            "type": "scatterpolar"
           }
          ],
          "scatterpolargl": [
           {
            "marker": {
             "colorbar": {
              "outlinewidth": 0,
              "ticks": ""
             }
            },
            "type": "scatterpolargl"
           }
          ],
          "scatterternary": [
           {
            "marker": {
             "colorbar": {
              "outlinewidth": 0,
              "ticks": ""
             }
            },
            "type": "scatterternary"
           }
          ],
          "surface": [
           {
            "colorbar": {
             "outlinewidth": 0,
             "ticks": ""
            },
            "colorscale": [
             [
              0,
              "#0d0887"
             ],
             [
              0.1111111111111111,
              "#46039f"
             ],
             [
              0.2222222222222222,
              "#7201a8"
             ],
             [
              0.3333333333333333,
              "#9c179e"
             ],
             [
              0.4444444444444444,
              "#bd3786"
             ],
             [
              0.5555555555555556,
              "#d8576b"
             ],
             [
              0.6666666666666666,
              "#ed7953"
             ],
             [
              0.7777777777777778,
              "#fb9f3a"
             ],
             [
              0.8888888888888888,
              "#fdca26"
             ],
             [
              1,
              "#f0f921"
             ]
            ],
            "type": "surface"
           }
          ],
          "table": [
           {
            "cells": {
             "fill": {
              "color": "#EBF0F8"
             },
             "line": {
              "color": "white"
             }
            },
            "header": {
             "fill": {
              "color": "#C8D4E3"
             },
             "line": {
              "color": "white"
             }
            },
            "type": "table"
           }
          ]
         },
         "layout": {
          "annotationdefaults": {
           "arrowcolor": "#2a3f5f",
           "arrowhead": 0,
           "arrowwidth": 1
          },
          "autotypenumbers": "strict",
          "coloraxis": {
           "colorbar": {
            "outlinewidth": 0,
            "ticks": ""
           }
          },
          "colorscale": {
           "diverging": [
            [
             0,
             "#8e0152"
            ],
            [
             0.1,
             "#c51b7d"
            ],
            [
             0.2,
             "#de77ae"
            ],
            [
             0.3,
             "#f1b6da"
            ],
            [
             0.4,
             "#fde0ef"
            ],
            [
             0.5,
             "#f7f7f7"
            ],
            [
             0.6,
             "#e6f5d0"
            ],
            [
             0.7,
             "#b8e186"
            ],
            [
             0.8,
             "#7fbc41"
            ],
            [
             0.9,
             "#4d9221"
            ],
            [
             1,
             "#276419"
            ]
           ],
           "sequential": [
            [
             0,
             "#0d0887"
            ],
            [
             0.1111111111111111,
             "#46039f"
            ],
            [
             0.2222222222222222,
             "#7201a8"
            ],
            [
             0.3333333333333333,
             "#9c179e"
            ],
            [
             0.4444444444444444,
             "#bd3786"
            ],
            [
             0.5555555555555556,
             "#d8576b"
            ],
            [
             0.6666666666666666,
             "#ed7953"
            ],
            [
             0.7777777777777778,
             "#fb9f3a"
            ],
            [
             0.8888888888888888,
             "#fdca26"
            ],
            [
             1,
             "#f0f921"
            ]
           ],
           "sequentialminus": [
            [
             0,
             "#0d0887"
            ],
            [
             0.1111111111111111,
             "#46039f"
            ],
            [
             0.2222222222222222,
             "#7201a8"
            ],
            [
             0.3333333333333333,
             "#9c179e"
            ],
            [
             0.4444444444444444,
             "#bd3786"
            ],
            [
             0.5555555555555556,
             "#d8576b"
            ],
            [
             0.6666666666666666,
             "#ed7953"
            ],
            [
             0.7777777777777778,
             "#fb9f3a"
            ],
            [
             0.8888888888888888,
             "#fdca26"
            ],
            [
             1,
             "#f0f921"
            ]
           ]
          },
          "colorway": [
           "#636efa",
           "#EF553B",
           "#00cc96",
           "#ab63fa",
           "#FFA15A",
           "#19d3f3",
           "#FF6692",
           "#B6E880",
           "#FF97FF",
           "#FECB52"
          ],
          "font": {
           "color": "#2a3f5f"
          },
          "geo": {
           "bgcolor": "white",
           "lakecolor": "white",
           "landcolor": "#E5ECF6",
           "showlakes": true,
           "showland": true,
           "subunitcolor": "white"
          },
          "hoverlabel": {
           "align": "left"
          },
          "hovermode": "closest",
          "mapbox": {
           "style": "light"
          },
          "paper_bgcolor": "white",
          "plot_bgcolor": "#E5ECF6",
          "polar": {
           "angularaxis": {
            "gridcolor": "white",
            "linecolor": "white",
            "ticks": ""
           },
           "bgcolor": "#E5ECF6",
           "radialaxis": {
            "gridcolor": "white",
            "linecolor": "white",
            "ticks": ""
           }
          },
          "scene": {
           "xaxis": {
            "backgroundcolor": "#E5ECF6",
            "gridcolor": "white",
            "gridwidth": 2,
            "linecolor": "white",
            "showbackground": true,
            "ticks": "",
            "zerolinecolor": "white"
           },
           "yaxis": {
            "backgroundcolor": "#E5ECF6",
            "gridcolor": "white",
            "gridwidth": 2,
            "linecolor": "white",
            "showbackground": true,
            "ticks": "",
            "zerolinecolor": "white"
           },
           "zaxis": {
            "backgroundcolor": "#E5ECF6",
            "gridcolor": "white",
            "gridwidth": 2,
            "linecolor": "white",
            "showbackground": true,
            "ticks": "",
            "zerolinecolor": "white"
           }
          },
          "shapedefaults": {
           "line": {
            "color": "#2a3f5f"
           }
          },
          "ternary": {
           "aaxis": {
            "gridcolor": "white",
            "linecolor": "white",
            "ticks": ""
           },
           "baxis": {
            "gridcolor": "white",
            "linecolor": "white",
            "ticks": ""
           },
           "bgcolor": "#E5ECF6",
           "caxis": {
            "gridcolor": "white",
            "linecolor": "white",
            "ticks": ""
           }
          },
          "title": {
           "x": 0.05
          },
          "xaxis": {
           "automargin": true,
           "gridcolor": "white",
           "linecolor": "white",
           "ticks": "",
           "title": {
            "standoff": 15
           },
           "zerolinecolor": "white",
           "zerolinewidth": 2
          },
          "yaxis": {
           "automargin": true,
           "gridcolor": "white",
           "linecolor": "white",
           "ticks": "",
           "title": {
            "standoff": 15
           },
           "zerolinecolor": "white",
           "zerolinewidth": 2
          }
         }
        },
        "title": {
         "font": {
          "color": "Black",
          "size": 22
         },
         "text": "<b>Similarity Matrix</b>",
         "x": 0.55,
         "xanchor": "center",
         "y": 0.95,
         "yanchor": "top"
        },
        "width": 800,
        "xaxis": {
         "anchor": "y",
         "constrain": "domain",
         "domain": [
          0,
          1
         ],
         "scaleanchor": "y"
        },
        "yaxis": {
         "anchor": "x",
         "autorange": "reversed",
         "constrain": "domain",
         "domain": [
          0,
          1
         ]
        }
       }
      }
     },
     "metadata": {},
     "output_type": "display_data"
    }
   ],
   "source": [
    "topic_model.visualize_heatmap()"
   ]
  },
  {
   "cell_type": "code",
   "execution_count": null,
   "metadata": {},
   "outputs": [],
   "source": [
    "import pandas as pd\n",
    "\n",
    "# Read the first CSV (containing 'doi' of the original dataset)\n",
    "first_csv = pd.read_csv('exported_data.csv')  # This should contain a column 'doi'\n",
    "\n",
    "# Read the second CSV (containing 'source_doi' and 'target_doi')\n",
    "second_csv = pd.read_csv('citation_edge_screened_no_dupes.csv')  # This should contain 'source_doi' and 'target_doi'\n",
    "\n",
    "# Clean column names by stripping spaces and converting to lowercase\n",
    "first_csv.columns = first_csv.columns.str.strip().str.lower()\n",
    "second_csv.columns = second_csv.columns.str.strip().str.lower()\n",
    "\n",
    "# Merge the second CSV with the first CSV based on 'target_doi'\n",
    "merged_csv = pd.merge(second_csv, first_csv, left_on='target', right_on='doi', how='left')\n",
    "\n",
    "# Check if the 'target_doi' has a match in the first CSV; if not, mark as 'N/A'\n",
    "merged_csv['match_status'] = merged_csv['doi'].apply(lambda x: 'Match' if pd.notna(x) else 'N/A')\n",
    "\n",
    "# Save the merged result to a new CSV file\n",
    "merged_csv.to_csv('merged_result1.csv', index=False)\n"
   ]
  }
 ],
 "metadata": {
  "kernelspec": {
   "display_name": "base",
   "language": "python",
   "name": "python3"
  },
  "language_info": {
   "codemirror_mode": {
    "name": "ipython",
    "version": 3
   },
   "file_extension": ".py",
   "mimetype": "text/x-python",
   "name": "python",
   "nbconvert_exporter": "python",
   "pygments_lexer": "ipython3",
   "version": "3.11.7"
  }
 },
 "nbformat": 4,
 "nbformat_minor": 2
}
