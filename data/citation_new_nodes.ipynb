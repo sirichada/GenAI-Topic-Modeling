{
 "cells": [
  {
   "cell_type": "code",
   "execution_count": 15,
   "metadata": {},
   "outputs": [
    {
     "name": "stdout",
     "output_type": "stream",
     "text": [
      "Original number of nodes: 213\n",
      "New number of nodes: 7645\n",
      "Number of new nodes added: 7432\n"
     ]
    }
   ],
   "source": [
    "import pandas as pd\n",
    "\n",
    "# Read the files\n",
    "node_df = pd.read_csv('citation_node.csv')\n",
    "edge_df = pd.read_csv('citation_edge_screened_no_dupes.csv')\n",
    "\n",
    "# Create initial lookup dictionary from existing nodes\n",
    "node_lookup = {label: id for id, label in zip(node_df['label'], node_df['id'])}\n",
    "\n",
    "# Find the next available ID number\n",
    "next_id = node_df['id'].max() + 1\n",
    "\n",
    "# Function to get or create ID for a DOI\n",
    "def get_or_create_id(doi):\n",
    "    global next_id\n",
    "    if doi not in node_lookup:\n",
    "        node_lookup[doi] = next_id\n",
    "        next_id += 1\n",
    "    return node_lookup[doi]\n",
    "\n",
    "# Map existing IDs and create new ones for source and target\n",
    "edge_df['source'] = edge_df['source'].apply(get_or_create_id)\n",
    "edge_df['target'] = edge_df['target'].apply(get_or_create_id)\n",
    "\n",
    "# Save the updated edge file\n",
    "edge_df.to_csv('citation_edge_mapped.csv', index=False)\n",
    "\n",
    "# Create new nodes dataframe with all DOIs\n",
    "all_dois = list(node_lookup.keys())\n",
    "all_ids = [node_lookup[doi] for doi in all_dois]\n",
    "\n",
    "new_node_df = pd.DataFrame({\n",
    "    'id': all_ids,\n",
    "    'label': all_dois\n",
    "})\n",
    "\n",
    "# Sort by ID to maintain order\n",
    "# new_node_df = new_node_df.sort_values('id').reset_index(drop=True)\n",
    "\n",
    "# Save the updated node file\n",
    "new_node_df.to_csv('citation_node_updated.csv', index=False)\n",
    "\n",
    "# Print some statistics\n",
    "print(f\"Original number of nodes: {len(node_df)}\")\n",
    "print(f\"New number of nodes: {len(new_node_df)}\")\n",
    "print(f\"Number of new nodes added: {len(new_node_df) - len(node_df)}\")"
   ]
  }
 ],
 "metadata": {
  "kernelspec": {
   "display_name": "base",
   "language": "python",
   "name": "python3"
  },
  "language_info": {
   "codemirror_mode": {
    "name": "ipython",
    "version": 3
   },
   "file_extension": ".py",
   "mimetype": "text/x-python",
   "name": "python",
   "nbconvert_exporter": "python",
   "pygments_lexer": "ipython3",
   "version": "3.11.7"
  }
 },
 "nbformat": 4,
 "nbformat_minor": 2
}
