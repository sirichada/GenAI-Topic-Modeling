{
 "cells": [
  {
   "cell_type": "code",
   "execution_count": 1,
   "metadata": {},
   "outputs": [],
   "source": [
    "from bertopic import BERTopic\n",
    "from bs4 import BeautifulSoup\n",
    "import pandas as pd"
   ]
  },
  {
   "cell_type": "code",
   "execution_count": 6,
   "metadata": {},
   "outputs": [
    {
     "name": "stdout",
     "output_type": "stream",
     "text": [
      "                              DOI  \\\n",
      "0       10.47363/jaicc/2024(3)347   \n",
      "1  10.70715/jitcai.2024.v1.i1.004   \n",
      "2            10.2139/ssrn.4782875   \n",
      "3      10.9781/ijimai.2024.02.006   \n",
      "4            10.2139/ssrn.4614223   \n",
      "\n",
      "                                               Title  \\\n",
      "0  Impact of AI and GenAI on Healthcare: Security...   \n",
      "1  The Impact of GenAI on Student Engagement and ...   \n",
      "2  Knowledge Management Perspective of GenAI (GenAI)   \n",
      "3  GenAI in Product Design Education: Navigating ...   \n",
      "4  GenAI Against Humanity: Nefarious Applications...   \n",
      "\n",
      "                                            Abstract  \n",
      "0  <jats:p>This paper aims to understand the impa...  \n",
      "1  <jats:p>The rapid adoption of AI (AI) in highe...  \n",
      "2                                                NaN  \n",
      "3                                                NaN  \n",
      "4                                                NaN  \n",
      "Index(['DOI', 'Title', 'Abstract'], dtype='object')\n"
     ]
    }
   ],
   "source": [
    "# Load the CSV file into a DataFrame\n",
    "df = pd.read_csv('6n.csv', error_bad_lines=False)\n",
    "\n",
    "# Inspect the first few rows and columns\n",
    "print(df.head())\n",
    "print(df.columns)"
   ]
  },
  {
   "cell_type": "code",
   "execution_count": 7,
   "metadata": {},
   "outputs": [],
   "source": [
    "# Remove rows where 'Abstract' column has the value 'N/A'\n",
    "df = df[~df['Abstract'].isin(['N/A']) & df['Abstract'].notna()]"
   ]
  },
  {
   "cell_type": "code",
   "execution_count": 8,
   "metadata": {},
   "outputs": [
    {
     "data": {
      "text/html": [
       "<div>\n",
       "<style scoped>\n",
       "    .dataframe tbody tr th:only-of-type {\n",
       "        vertical-align: middle;\n",
       "    }\n",
       "\n",
       "    .dataframe tbody tr th {\n",
       "        vertical-align: top;\n",
       "    }\n",
       "\n",
       "    .dataframe thead th {\n",
       "        text-align: right;\n",
       "    }\n",
       "</style>\n",
       "<table border=\"1\" class=\"dataframe\">\n",
       "  <thead>\n",
       "    <tr style=\"text-align: right;\">\n",
       "      <th></th>\n",
       "      <th>DOI</th>\n",
       "      <th>Title</th>\n",
       "      <th>Abstract</th>\n",
       "    </tr>\n",
       "  </thead>\n",
       "  <tbody>\n",
       "    <tr>\n",
       "      <th>0</th>\n",
       "      <td>10.47363/jaicc/2024(3)347</td>\n",
       "      <td>Impact of AI and GenAI on Healthcare: Security...</td>\n",
       "      <td>&lt;jats:p&gt;This paper aims to understand the impa...</td>\n",
       "    </tr>\n",
       "    <tr>\n",
       "      <th>1</th>\n",
       "      <td>10.70715/jitcai.2024.v1.i1.004</td>\n",
       "      <td>The Impact of GenAI on Student Engagement and ...</td>\n",
       "      <td>&lt;jats:p&gt;The rapid adoption of AI (AI) in highe...</td>\n",
       "    </tr>\n",
       "    <tr>\n",
       "      <th>6</th>\n",
       "      <td>10.7256/2454-0625.2024.6.70926</td>\n",
       "      <td>Socio-cultural risks of multimodal large gener...</td>\n",
       "      <td>&lt;jats:p&gt;\\n The article is devoted to the study...</td>\n",
       "    </tr>\n",
       "    <tr>\n",
       "      <th>7</th>\n",
       "      <td>10.51191/issn.2637-1898.2024.7.12.12</td>\n",
       "      <td>AI: Duality in Applications of GenAI and Assis...</td>\n",
       "      <td>&lt;jats:p&gt;This paper explores the multifaceted r...</td>\n",
       "    </tr>\n",
       "    <tr>\n",
       "      <th>9</th>\n",
       "      <td>10.1007/s43681-022-00176-2</td>\n",
       "      <td>Review of the state of the art in autonomous AI</td>\n",
       "      <td>&lt;jats:title&gt;Abstract&lt;/jats:title&gt;&lt;jats:p&gt;This ...</td>\n",
       "    </tr>\n",
       "  </tbody>\n",
       "</table>\n",
       "</div>"
      ],
      "text/plain": [
       "                                    DOI  \\\n",
       "0             10.47363/jaicc/2024(3)347   \n",
       "1        10.70715/jitcai.2024.v1.i1.004   \n",
       "6        10.7256/2454-0625.2024.6.70926   \n",
       "7  10.51191/issn.2637-1898.2024.7.12.12   \n",
       "9            10.1007/s43681-022-00176-2   \n",
       "\n",
       "                                               Title  \\\n",
       "0  Impact of AI and GenAI on Healthcare: Security...   \n",
       "1  The Impact of GenAI on Student Engagement and ...   \n",
       "6  Socio-cultural risks of multimodal large gener...   \n",
       "7  AI: Duality in Applications of GenAI and Assis...   \n",
       "9    Review of the state of the art in autonomous AI   \n",
       "\n",
       "                                            Abstract  \n",
       "0  <jats:p>This paper aims to understand the impa...  \n",
       "1  <jats:p>The rapid adoption of AI (AI) in highe...  \n",
       "6  <jats:p>\\n The article is devoted to the study...  \n",
       "7  <jats:p>This paper explores the multifaceted r...  \n",
       "9  <jats:title>Abstract</jats:title><jats:p>This ...  "
      ]
     },
     "execution_count": 8,
     "metadata": {},
     "output_type": "execute_result"
    }
   ],
   "source": [
    "df.head()"
   ]
  },
  {
   "cell_type": "code",
   "execution_count": 10,
   "metadata": {},
   "outputs": [],
   "source": [
    "# Define the cleaning function\n",
    "def clean_html_xml(text):\n",
    "    # Create a BeautifulSoup object to parse the HTML/XML\n",
    "    soup = BeautifulSoup(text, 'html.parser')\n",
    "    # Extract and return text without HTML/XML tags\n",
    "    return soup.get_text()"
   ]
  },
  {
   "cell_type": "code",
   "execution_count": 11,
   "metadata": {},
   "outputs": [],
   "source": [
    "df['cleaned_text'] = df['Abstract'].apply(clean_html_xml)"
   ]
  },
  {
   "cell_type": "code",
   "execution_count": 20,
   "metadata": {},
   "outputs": [],
   "source": [
    "# Initialize and fit the BERTopic model and remove stop words from the vectorizer\n",
    "from sklearn.feature_extraction.text import CountVectorizer\n",
    "vectorizer_model = CountVectorizer(stop_words=\"english\")\n",
    "topic_model = BERTopic(vectorizer_model=vectorizer_model)"
   ]
  },
  {
   "cell_type": "code",
   "execution_count": 15,
   "metadata": {},
   "outputs": [],
   "source": [
    "# Initialize and fit the BERTopic model\n",
    "topic_model = BERTopic(embedding_model = \"all-MiniLM-L6-v2\")"
   ]
  },
  {
   "cell_type": "code",
   "execution_count": 18,
   "metadata": {},
   "outputs": [
    {
     "name": "stderr",
     "output_type": "stream",
     "text": [
      "Hardware accelerator e.g. GPU is available in the environment, but no `device` argument is passed to the `Pipeline` object. Model will be on CPU.\n"
     ]
    }
   ],
   "source": [
    "from transformers import pipeline\n",
    "from bertopic import BERTopic\n",
    "\n",
    "# Create the embedding model pipeline\n",
    "embedding_model = pipeline(\"feature-extraction\", model=\"cambridgeltl/SapBERT-from-PubMedBERT-fulltext\")\n",
    "\n",
    "# Custom wrapper for the embedding model to include truncation and padding\n",
    "def embed_documents(documents):\n",
    "    return embedding_model(documents, truncation=True, padding=True)\n",
    "\n",
    "# Initialize the BERTopic model with the custom embedding function\n",
    "topic_model = BERTopic(embedding_model=embed_documents)\n"
   ]
  },
  {
   "cell_type": "code",
   "execution_count": 21,
   "metadata": {},
   "outputs": [],
   "source": [
    "topics, probs = topic_model.fit_transform(df['Title'])"
   ]
  },
  {
   "cell_type": "code",
   "execution_count": 23,
   "metadata": {},
   "outputs": [],
   "source": [
    "topics, probs = topic_model.fit_transform(df['cleaned_text'])"
   ]
  },
  {
   "cell_type": "code",
   "execution_count": 24,
   "metadata": {},
   "outputs": [
    {
     "data": {
      "text/html": [
       "<div>\n",
       "<style scoped>\n",
       "    .dataframe tbody tr th:only-of-type {\n",
       "        vertical-align: middle;\n",
       "    }\n",
       "\n",
       "    .dataframe tbody tr th {\n",
       "        vertical-align: top;\n",
       "    }\n",
       "\n",
       "    .dataframe thead th {\n",
       "        text-align: right;\n",
       "    }\n",
       "</style>\n",
       "<table border=\"1\" class=\"dataframe\">\n",
       "  <thead>\n",
       "    <tr style=\"text-align: right;\">\n",
       "      <th></th>\n",
       "      <th>Topic</th>\n",
       "      <th>Count</th>\n",
       "      <th>Name</th>\n",
       "      <th>Representation</th>\n",
       "      <th>Representative_Docs</th>\n",
       "    </tr>\n",
       "  </thead>\n",
       "  <tbody>\n",
       "    <tr>\n",
       "      <th>0</th>\n",
       "      <td>-1</td>\n",
       "      <td>113</td>\n",
       "      <td>-1_ai_genai_research_ethical</td>\n",
       "      <td>[ai, genai, research, ethical, use, data, syst...</td>\n",
       "      <td>[The integration of AI (AI) into Library and I...</td>\n",
       "    </tr>\n",
       "    <tr>\n",
       "      <th>1</th>\n",
       "      <td>0</td>\n",
       "      <td>116</td>\n",
       "      <td>0_ai_ethical_ethics_moral</td>\n",
       "      <td>[ai, ethical, ethics, moral, human, developmen...</td>\n",
       "      <td>[Aim: AI systems can be complex and opaque, ma...</td>\n",
       "    </tr>\n",
       "    <tr>\n",
       "      <th>2</th>\n",
       "      <td>1</td>\n",
       "      <td>54</td>\n",
       "      <td>1_students_genai_learning_education</td>\n",
       "      <td>[students, genai, learning, education, ai, edu...</td>\n",
       "      <td>[Integrating GenAI into education has sparked ...</td>\n",
       "    </tr>\n",
       "    <tr>\n",
       "      <th>3</th>\n",
       "      <td>2</td>\n",
       "      <td>31</td>\n",
       "      <td>2_art_ai_music_new</td>\n",
       "      <td>[art, ai, music, new, content, creative, aigen...</td>\n",
       "      <td>[With the rapid development of information soc...</td>\n",
       "    </tr>\n",
       "    <tr>\n",
       "      <th>4</th>\n",
       "      <td>3</td>\n",
       "      <td>28</td>\n",
       "      <td>3_healthcare_medical_ai_care</td>\n",
       "      <td>[healthcare, medical, ai, care, patient, data,...</td>\n",
       "      <td>[AI (AI) is revolutionizing the healthcare sec...</td>\n",
       "    </tr>\n",
       "    <tr>\n",
       "      <th>5</th>\n",
       "      <td>4</td>\n",
       "      <td>25</td>\n",
       "      <td>4_business_marketing_customer_genai</td>\n",
       "      <td>[business, marketing, customer, genai, study, ...</td>\n",
       "      <td>[The research paper investigates the comparati...</td>\n",
       "    </tr>\n",
       "    <tr>\n",
       "      <th>6</th>\n",
       "      <td>5</td>\n",
       "      <td>18</td>\n",
       "      <td>5_data_gan_network_generative</td>\n",
       "      <td>[data, gan, network, generative, adversarial, ...</td>\n",
       "      <td>[&lt;p&gt;&lt;span lang=\"EN-US\"&gt;Research in the field o...</td>\n",
       "    </tr>\n",
       "    <tr>\n",
       "      <th>7</th>\n",
       "      <td>6</td>\n",
       "      <td>15</td>\n",
       "      <td>6_ethical_healthcare_ai_principles</td>\n",
       "      <td>[ethical, healthcare, ai, principles, issues, ...</td>\n",
       "      <td>[Public and private investments into developin...</td>\n",
       "    </tr>\n",
       "    <tr>\n",
       "      <th>8</th>\n",
       "      <td>7</td>\n",
       "      <td>12</td>\n",
       "      <td>7_extraction_text_news_document</td>\n",
       "      <td>[extraction, text, news, document, genai, lang...</td>\n",
       "      <td>[This study is an in-depth exploration of the ...</td>\n",
       "    </tr>\n",
       "    <tr>\n",
       "      <th>9</th>\n",
       "      <td>8</td>\n",
       "      <td>12</td>\n",
       "      <td>8_ai_hrm_management_economy</td>\n",
       "      <td>[ai, hrm, management, economy, work, meaningfu...</td>\n",
       "      <td>[This research discusses the impact of the int...</td>\n",
       "    </tr>\n",
       "    <tr>\n",
       "      <th>10</th>\n",
       "      <td>9</td>\n",
       "      <td>10</td>\n",
       "      <td>9_security_cybersecurity_cyber_threats</td>\n",
       "      <td>[security, cybersecurity, cyber, threats, ai, ...</td>\n",
       "      <td>[AbstractThis paper examines the ethical oblig...</td>\n",
       "    </tr>\n",
       "  </tbody>\n",
       "</table>\n",
       "</div>"
      ],
      "text/plain": [
       "    Topic  Count                                    Name  \\\n",
       "0      -1    113            -1_ai_genai_research_ethical   \n",
       "1       0    116               0_ai_ethical_ethics_moral   \n",
       "2       1     54     1_students_genai_learning_education   \n",
       "3       2     31                      2_art_ai_music_new   \n",
       "4       3     28            3_healthcare_medical_ai_care   \n",
       "5       4     25     4_business_marketing_customer_genai   \n",
       "6       5     18           5_data_gan_network_generative   \n",
       "7       6     15      6_ethical_healthcare_ai_principles   \n",
       "8       7     12         7_extraction_text_news_document   \n",
       "9       8     12             8_ai_hrm_management_economy   \n",
       "10      9     10  9_security_cybersecurity_cyber_threats   \n",
       "\n",
       "                                       Representation  \\\n",
       "0   [ai, genai, research, ethical, use, data, syst...   \n",
       "1   [ai, ethical, ethics, moral, human, developmen...   \n",
       "2   [students, genai, learning, education, ai, edu...   \n",
       "3   [art, ai, music, new, content, creative, aigen...   \n",
       "4   [healthcare, medical, ai, care, patient, data,...   \n",
       "5   [business, marketing, customer, genai, study, ...   \n",
       "6   [data, gan, network, generative, adversarial, ...   \n",
       "7   [ethical, healthcare, ai, principles, issues, ...   \n",
       "8   [extraction, text, news, document, genai, lang...   \n",
       "9   [ai, hrm, management, economy, work, meaningfu...   \n",
       "10  [security, cybersecurity, cyber, threats, ai, ...   \n",
       "\n",
       "                                  Representative_Docs  \n",
       "0   [The integration of AI (AI) into Library and I...  \n",
       "1   [Aim: AI systems can be complex and opaque, ma...  \n",
       "2   [Integrating GenAI into education has sparked ...  \n",
       "3   [With the rapid development of information soc...  \n",
       "4   [AI (AI) is revolutionizing the healthcare sec...  \n",
       "5   [The research paper investigates the comparati...  \n",
       "6   [<p><span lang=\"EN-US\">Research in the field o...  \n",
       "7   [Public and private investments into developin...  \n",
       "8   [This study is an in-depth exploration of the ...  \n",
       "9   [This research discusses the impact of the int...  \n",
       "10  [AbstractThis paper examines the ethical oblig...  "
      ]
     },
     "execution_count": 24,
     "metadata": {},
     "output_type": "execute_result"
    }
   ],
   "source": [
    "topic_model.get_topic_info()\n"
   ]
  },
  {
   "cell_type": "code",
   "execution_count": null,
   "metadata": {},
   "outputs": [],
   "source": [
    "topic_model.get_topic(1)"
   ]
  },
  {
   "cell_type": "code",
   "execution_count": null,
   "metadata": {},
   "outputs": [],
   "source": [
    "topic_model.get_representative_docs(6)"
   ]
  },
  {
   "cell_type": "code",
   "execution_count": null,
   "metadata": {},
   "outputs": [],
   "source": [
    "\n",
    "topic_model.visualize_topics() "
   ]
  },
  {
   "cell_type": "code",
   "execution_count": null,
   "metadata": {},
   "outputs": [],
   "source": [
    "topic_model.visualize_barchart()"
   ]
  },
  {
   "cell_type": "code",
   "execution_count": 25,
   "metadata": {},
   "outputs": [
    {
     "name": "stderr",
     "output_type": "stream",
     "text": [
      "2024-11-12 16:05:46,375 - BERTopic - WARNING: When you use `pickle` to save/load a BERTopic model,please make sure that the environments in which you saveand load the model are **exactly** the same. The version of BERTopic,its dependencies, and python need to remain the same.\n"
     ]
    }
   ],
   "source": [
    "\n",
    "topic_model.save(\"/Users/siri/Documents/GitHub/CrossRefData/bertopic_model\")\n",
    "\n"
   ]
  }
 ],
 "metadata": {
  "kernelspec": {
   "display_name": "base",
   "language": "python",
   "name": "python3"
  },
  "language_info": {
   "codemirror_mode": {
    "name": "ipython",
    "version": 3
   },
   "file_extension": ".py",
   "mimetype": "text/x-python",
   "name": "python",
   "nbconvert_exporter": "python",
   "pygments_lexer": "ipython3",
   "version": "3.11.7"
  }
 },
 "nbformat": 4,
 "nbformat_minor": 2
}
