{
 "cells": [
  {
   "cell_type": "code",
   "execution_count": 1,
   "metadata": {},
   "outputs": [],
   "source": [
    "from bertopic import BERTopic\n",
    "from bs4 import BeautifulSoup\n",
    "import pandas as pd"
   ]
  },
  {
   "cell_type": "code",
   "execution_count": 3,
   "metadata": {},
   "outputs": [
    {
     "name": "stdout",
     "output_type": "stream",
     "text": [
      "                          DOI  \\\n",
      "0  10.1007/s43681-024-00521-7   \n",
      "1  10.1007/s43681-023-00315-3   \n",
      "2        10.2139/ssrn.4784555   \n",
      "3  10.1007/s43681-024-00519-1   \n",
      "4     10.1201/9781032654829-2   \n",
      "\n",
      "                                               Title  \\\n",
      "0  Ethics and the use of generative AI in profess...   \n",
      "1  Does the sun rise for ChatGPT? Scientific disc...   \n",
      "2  The Ethics of Generative Ai in Social Science ...   \n",
      "3  A powerful potion for a potent problem: transf...   \n",
      "4  Generative Artificial Intelligence: Introducti...   \n",
      "\n",
      "                                            Abstract  \n",
      "0  <jats:title>Abstract</jats:title><jats:p>Gener...  \n",
      "1                                                NaN  \n",
      "2                                                NaN  \n",
      "3  <jats:title>Abstract</jats:title><jats:p>Gener...  \n",
      "4                                                NaN  \n",
      "Index(['DOI', 'Title', 'Abstract'], dtype='object')\n"
     ]
    }
   ],
   "source": [
    "# Load the CSV file into a DataFrame\n",
    "df = pd.read_csv('crossref_data.csv')\n",
    "\n",
    "# Inspect the first few rows and columns\n",
    "print(df.head())\n",
    "print(df.columns)"
   ]
  },
  {
   "cell_type": "code",
   "execution_count": 5,
   "metadata": {},
   "outputs": [],
   "source": [
    "# Remove rows where 'Abstract' column has the value 'N/A'\n",
    "df = df[~df['Abstract'].isin(['N/A']) & df['Abstract'].notna()]"
   ]
  },
  {
   "cell_type": "code",
   "execution_count": 12,
   "metadata": {},
   "outputs": [
    {
     "data": {
      "text/html": [
       "<div>\n",
       "<style scoped>\n",
       "    .dataframe tbody tr th:only-of-type {\n",
       "        vertical-align: middle;\n",
       "    }\n",
       "\n",
       "    .dataframe tbody tr th {\n",
       "        vertical-align: top;\n",
       "    }\n",
       "\n",
       "    .dataframe thead th {\n",
       "        text-align: right;\n",
       "    }\n",
       "</style>\n",
       "<table border=\"1\" class=\"dataframe\">\n",
       "  <thead>\n",
       "    <tr style=\"text-align: right;\">\n",
       "      <th></th>\n",
       "      <th>DOI</th>\n",
       "      <th>Title</th>\n",
       "      <th>Abstract</th>\n",
       "      <th>cleaned_text</th>\n",
       "    </tr>\n",
       "  </thead>\n",
       "  <tbody>\n",
       "    <tr>\n",
       "      <th>0</th>\n",
       "      <td>10.1007/s43681-024-00521-7</td>\n",
       "      <td>Ethics and the use of generative AI in profess...</td>\n",
       "      <td>&lt;jats:title&gt;Abstract&lt;/jats:title&gt;&lt;jats:p&gt;Gener...</td>\n",
       "      <td>AbstractGenerative artificial intelligence (Gn...</td>\n",
       "    </tr>\n",
       "    <tr>\n",
       "      <th>3</th>\n",
       "      <td>10.1007/s43681-024-00519-1</td>\n",
       "      <td>A powerful potion for a potent problem: transf...</td>\n",
       "      <td>&lt;jats:title&gt;Abstract&lt;/jats:title&gt;&lt;jats:p&gt;Gener...</td>\n",
       "      <td>AbstractGenerative Artificial Intelligence (AI...</td>\n",
       "    </tr>\n",
       "    <tr>\n",
       "      <th>5</th>\n",
       "      <td>10.4018/979-8-3693-8557-9.ch009</td>\n",
       "      <td>Generative AI for Cybersecurity</td>\n",
       "      <td>&lt;jats:p&gt;The intersection of cybersecurity and ...</td>\n",
       "      <td>The intersection of cybersecurity and generati...</td>\n",
       "    </tr>\n",
       "    <tr>\n",
       "      <th>10</th>\n",
       "      <td>10.4018/979-8-3693-8557-9.ch002</td>\n",
       "      <td>Generative AI</td>\n",
       "      <td>&lt;jats:p&gt;For nearly 50 years, artificial intell...</td>\n",
       "      <td>For nearly 50 years, artificial intelligence (...</td>\n",
       "    </tr>\n",
       "    <tr>\n",
       "      <th>13</th>\n",
       "      <td>10.1007/s43681-024-00443-4</td>\n",
       "      <td>AI hype as a cyber security risk: the moral re...</td>\n",
       "      <td>&lt;jats:title&gt;Abstract&lt;/jats:title&gt;&lt;jats:p&gt;This ...</td>\n",
       "      <td>AbstractThis paper examines the ethical obliga...</td>\n",
       "    </tr>\n",
       "  </tbody>\n",
       "</table>\n",
       "</div>"
      ],
      "text/plain": [
       "                                DOI  \\\n",
       "0        10.1007/s43681-024-00521-7   \n",
       "3        10.1007/s43681-024-00519-1   \n",
       "5   10.4018/979-8-3693-8557-9.ch009   \n",
       "10  10.4018/979-8-3693-8557-9.ch002   \n",
       "13       10.1007/s43681-024-00443-4   \n",
       "\n",
       "                                                Title  \\\n",
       "0   Ethics and the use of generative AI in profess...   \n",
       "3   A powerful potion for a potent problem: transf...   \n",
       "5                     Generative AI for Cybersecurity   \n",
       "10                                      Generative AI   \n",
       "13  AI hype as a cyber security risk: the moral re...   \n",
       "\n",
       "                                             Abstract  \\\n",
       "0   <jats:title>Abstract</jats:title><jats:p>Gener...   \n",
       "3   <jats:title>Abstract</jats:title><jats:p>Gener...   \n",
       "5   <jats:p>The intersection of cybersecurity and ...   \n",
       "10  <jats:p>For nearly 50 years, artificial intell...   \n",
       "13  <jats:title>Abstract</jats:title><jats:p>This ...   \n",
       "\n",
       "                                         cleaned_text  \n",
       "0   AbstractGenerative artificial intelligence (Gn...  \n",
       "3   AbstractGenerative Artificial Intelligence (AI...  \n",
       "5   The intersection of cybersecurity and generati...  \n",
       "10  For nearly 50 years, artificial intelligence (...  \n",
       "13  AbstractThis paper examines the ethical obliga...  "
      ]
     },
     "execution_count": 12,
     "metadata": {},
     "output_type": "execute_result"
    }
   ],
   "source": [
    "df.head()"
   ]
  },
  {
   "cell_type": "code",
   "execution_count": 7,
   "metadata": {},
   "outputs": [],
   "source": [
    "# Define the cleaning function\n",
    "def clean_html_xml(text):\n",
    "    # Create a BeautifulSoup object to parse the HTML/XML\n",
    "    soup = BeautifulSoup(text, 'html.parser')\n",
    "    # Extract and return text without HTML/XML tags\n",
    "    return soup.get_text()"
   ]
  },
  {
   "cell_type": "code",
   "execution_count": 8,
   "metadata": {},
   "outputs": [],
   "source": [
    "df['cleaned_text'] = df['Abstract'].apply(clean_html_xml)"
   ]
  },
  {
   "cell_type": "code",
   "execution_count": 8,
   "metadata": {},
   "outputs": [],
   "source": [
    "# Initialize and fit the BERTopic model and remove stop words from the vectorizer\n",
    "from sklearn.feature_extraction.text import CountVectorizer\n",
    "vectorizer_model = CountVectorizer(stop_words=\"english\")\n",
    "topic_model = BERTopic(vectorizer_model=vectorizer_model)"
   ]
  },
  {
   "cell_type": "code",
   "execution_count": 9,
   "metadata": {},
   "outputs": [],
   "source": [
    "# Initialize and fit the BERTopic model\n",
    "topic_model = BERTopic(embedding_model = \"all-MiniLM-L6-v2\")"
   ]
  },
  {
   "cell_type": "code",
   "execution_count": 14,
   "metadata": {},
   "outputs": [
    {
     "name": "stderr",
     "output_type": "stream",
     "text": [
      "Hardware accelerator e.g. GPU is available in the environment, but no `device` argument is passed to the `Pipeline` object. Model will be on CPU.\n"
     ]
    }
   ],
   "source": [
    "from transformers import pipeline\n",
    "from bertopic import BERTopic\n",
    "\n",
    "# Create the embedding model pipeline\n",
    "embedding_model = pipeline(\"feature-extraction\", model=\"cambridgeltl/SapBERT-from-PubMedBERT-fulltext\")\n",
    "\n",
    "# Custom wrapper for the embedding model to include truncation and padding\n",
    "def embed_documents(documents):\n",
    "    return embedding_model(documents, truncation=True, padding=True)\n",
    "\n",
    "# Initialize the BERTopic model with the custom embedding function\n",
    "topic_model = BERTopic(embedding_model=embed_documents)\n",
    "\n",
    "# Fit and transform your data\n",
    "topics, probs = topic_model.fit_transform(df['cleaned_text'])\n"
   ]
  },
  {
   "cell_type": "code",
   "execution_count": 15,
   "metadata": {},
   "outputs": [],
   "source": [
    "topics, probs = topic_model.fit_transform(df['Title'])"
   ]
  },
  {
   "cell_type": "code",
   "execution_count": 17,
   "metadata": {},
   "outputs": [],
   "source": [
    "topics, probs = topic_model.fit_transform(df['cleaned_text'])"
   ]
  },
  {
   "cell_type": "code",
   "execution_count": 18,
   "metadata": {},
   "outputs": [
    {
     "data": {
      "text/html": [
       "<div>\n",
       "<style scoped>\n",
       "    .dataframe tbody tr th:only-of-type {\n",
       "        vertical-align: middle;\n",
       "    }\n",
       "\n",
       "    .dataframe tbody tr th {\n",
       "        vertical-align: top;\n",
       "    }\n",
       "\n",
       "    .dataframe thead th {\n",
       "        text-align: right;\n",
       "    }\n",
       "</style>\n",
       "<table border=\"1\" class=\"dataframe\">\n",
       "  <thead>\n",
       "    <tr style=\"text-align: right;\">\n",
       "      <th></th>\n",
       "      <th>Topic</th>\n",
       "      <th>Count</th>\n",
       "      <th>Name</th>\n",
       "      <th>Representation</th>\n",
       "      <th>Representative_Docs</th>\n",
       "    </tr>\n",
       "  </thead>\n",
       "  <tbody>\n",
       "    <tr>\n",
       "      <th>0</th>\n",
       "      <td>-1</td>\n",
       "      <td>15</td>\n",
       "      <td>-1_cloud_computing_genai_edge</td>\n",
       "      <td>[cloud, computing, genai, edge, and, the, syst...</td>\n",
       "      <td>[&lt;p&gt;As a specific category of artificial intel...</td>\n",
       "    </tr>\n",
       "    <tr>\n",
       "      <th>1</th>\n",
       "      <td>0</td>\n",
       "      <td>1331</td>\n",
       "      <td>0_the_and_of_to</td>\n",
       "      <td>[the, and, of, to, in, ai, for, this, that, is]</td>\n",
       "      <td>[\\nBackground\\nThe integration of artificial i...</td>\n",
       "    </tr>\n",
       "    <tr>\n",
       "      <th>2</th>\n",
       "      <td>1</td>\n",
       "      <td>30</td>\n",
       "      <td>1_the_and_of_to</td>\n",
       "      <td>[the, and, of, to, cybersecurity, in, security...</td>\n",
       "      <td>[This chapter explores the burgeoning role of ...</td>\n",
       "    </tr>\n",
       "  </tbody>\n",
       "</table>\n",
       "</div>"
      ],
      "text/plain": [
       "   Topic  Count                           Name  \\\n",
       "0     -1     15  -1_cloud_computing_genai_edge   \n",
       "1      0   1331                0_the_and_of_to   \n",
       "2      1     30                1_the_and_of_to   \n",
       "\n",
       "                                      Representation  \\\n",
       "0  [cloud, computing, genai, edge, and, the, syst...   \n",
       "1    [the, and, of, to, in, ai, for, this, that, is]   \n",
       "2  [the, and, of, to, cybersecurity, in, security...   \n",
       "\n",
       "                                 Representative_Docs  \n",
       "0  [<p>As a specific category of artificial intel...  \n",
       "1  [\\nBackground\\nThe integration of artificial i...  \n",
       "2  [This chapter explores the burgeoning role of ...  "
      ]
     },
     "execution_count": 18,
     "metadata": {},
     "output_type": "execute_result"
    }
   ],
   "source": [
    "topic_model.get_topic_info()\n"
   ]
  },
  {
   "cell_type": "code",
   "execution_count": null,
   "metadata": {},
   "outputs": [],
   "source": [
    "topic_model.get_topic(2)"
   ]
  },
  {
   "cell_type": "code",
   "execution_count": null,
   "metadata": {},
   "outputs": [],
   "source": [
    "topic_model.get_representative_docs(12)"
   ]
  },
  {
   "cell_type": "code",
   "execution_count": null,
   "metadata": {},
   "outputs": [],
   "source": [
    "\n",
    "topic_model.visualize_topics() "
   ]
  },
  {
   "cell_type": "code",
   "execution_count": null,
   "metadata": {},
   "outputs": [],
   "source": [
    "topic_model.visualize_barchart()"
   ]
  },
  {
   "cell_type": "code",
   "execution_count": null,
   "metadata": {},
   "outputs": [],
   "source": [
    "\n"
   ]
  }
 ],
 "metadata": {
  "kernelspec": {
   "display_name": "base",
   "language": "python",
   "name": "python3"
  },
  "language_info": {
   "codemirror_mode": {
    "name": "ipython",
    "version": 3
   },
   "file_extension": ".py",
   "mimetype": "text/x-python",
   "name": "python",
   "nbconvert_exporter": "python",
   "pygments_lexer": "ipython3",
   "version": "3.11.7"
  }
 },
 "nbformat": 4,
 "nbformat_minor": 2
}
